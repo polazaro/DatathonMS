{
 "cells": [
  {
   "cell_type": "markdown",
   "metadata": {},
   "source": [
    "# Datathon"
   ]
  },
  {
   "cell_type": "markdown",
   "metadata": {},
   "source": [
    "## Pablo Lázaro Herrasti y Manuel Jesús Galán Moreu"
   ]
  },
  {
   "cell_type": "markdown",
   "metadata": {},
   "source": [
    "### Imports"
   ]
  },
  {
   "cell_type": "code",
   "execution_count": 157,
   "metadata": {},
   "outputs": [],
   "source": [
    "import pandas as pd\n",
    "import numpy as np\n",
    "import seaborn as sns\n",
    "import itertools\n",
    "import warnings\n",
    "warnings.filterwarnings(\"ignore\")\n",
    "import xgboost as xgb\n",
    "\n",
    "\n",
    "### SKLEARN\n",
    "\n",
    "from sklearn import metrics\n",
    "from sklearn.model_selection import train_test_split\n",
    "from sklearn.preprocessing import StandardScaler, MinMaxScaler ### import Standard and MinMax Preprocessing \n",
    "from sklearn.naive_bayes import GaussianNB\n",
    "from sklearn.pipeline import Pipeline\n",
    "from sklearn.model_selection import GridSearchCV\n",
    "from sklearn.svm import SVC ### Support Vector Machine\n",
    "from sklearn.ensemble import RandomForestClassifier, GradientBoostingClassifier ### Random forest and XGBoosting Classifier\n",
    "from xgboost import XGBClassifier\n",
    "from sklearn.feature_selection import RFE\n",
    "\n",
    "import matplotlib.pyplot as plt\n",
    "import matplotlib.gridspec as gridspec\n",
    "\n",
    "from sklearn import datasets\n",
    "\n",
    "from sklearn.tree import DecisionTreeClassifier\n",
    "from sklearn.neighbors import KNeighborsClassifier\n",
    "from sklearn.linear_model import LogisticRegression\n",
    "from sklearn.ensemble import RandomForestClassifier\n",
    "\n",
    "from sklearn.ensemble import BaggingClassifier\n",
    "from sklearn.model_selection import cross_val_score, train_test_split\n",
    "\n",
    "from mlxtend.plotting import plot_learning_curves\n",
    "from mlxtend.plotting import plot_decision_regions"
   ]
  },
  {
   "cell_type": "markdown",
   "metadata": {},
   "source": [
    "### Reading data"
   ]
  },
  {
   "cell_type": "code",
   "execution_count": 158,
   "metadata": {},
   "outputs": [],
   "source": [
    "dir_data = 'C:/Users/manuel.jesus.galan.1/Desktop/Datathon/Datasets/'\n",
    "elephant_dir = 'elephant.csv'\n",
    "ring_dir = 'ring.csv'\n",
    "yeast1_dir = 'yeast1.csv'"
   ]
  },
  {
   "cell_type": "code",
   "execution_count": 159,
   "metadata": {},
   "outputs": [],
   "source": [
    "df_elephant = pd.read_csv(dir_data + elephant_dir, sep=';', skipinitialspace=True)\n",
    "df_ring = pd.read_csv(dir_data + ring_dir, sep=';', skipinitialspace=True)\n",
    "df_yeast1 = pd.read_csv(dir_data + yeast1_dir, sep=';', skipinitialspace=True)"
   ]
  },
  {
   "cell_type": "markdown",
   "metadata": {},
   "source": [
    "### Showing data"
   ]
  },
  {
   "cell_type": "code",
   "execution_count": 160,
   "metadata": {},
   "outputs": [
    {
     "name": "stdout",
     "output_type": "stream",
     "text": [
      "Number of rows: 1391\n",
      "Number of columns: 231\n"
     ]
    },
    {
     "data": {
      "text/html": [
       "<div>\n",
       "<style scoped>\n",
       "    .dataframe tbody tr th:only-of-type {\n",
       "        vertical-align: middle;\n",
       "    }\n",
       "\n",
       "    .dataframe tbody tr th {\n",
       "        vertical-align: top;\n",
       "    }\n",
       "\n",
       "    .dataframe thead th {\n",
       "        text-align: right;\n",
       "    }\n",
       "</style>\n",
       "<table border=\"1\" class=\"dataframe\">\n",
       "  <thead>\n",
       "    <tr style=\"text-align: right;\">\n",
       "      <th></th>\n",
       "      <th>Atr-1</th>\n",
       "      <th>Atr-2</th>\n",
       "      <th>Atr-3</th>\n",
       "      <th>Atr-4</th>\n",
       "      <th>Atr-5</th>\n",
       "      <th>Atr-6</th>\n",
       "      <th>Atr-7</th>\n",
       "      <th>Atr-8</th>\n",
       "      <th>Atr-9</th>\n",
       "      <th>Atr-10</th>\n",
       "      <th>...</th>\n",
       "      <th>Atr-222</th>\n",
       "      <th>Atr-223</th>\n",
       "      <th>Atr-224</th>\n",
       "      <th>Atr-225</th>\n",
       "      <th>Atr-226</th>\n",
       "      <th>Atr-227</th>\n",
       "      <th>Atr-228</th>\n",
       "      <th>Atr-229</th>\n",
       "      <th>Atr-230</th>\n",
       "      <th>CLASS</th>\n",
       "    </tr>\n",
       "  </thead>\n",
       "  <tbody>\n",
       "    <tr>\n",
       "      <th>0</th>\n",
       "      <td>-0,28698</td>\n",
       "      <td>-0,624297</td>\n",
       "      <td>-0,679333</td>\n",
       "      <td>-0,455715</td>\n",
       "      <td>0,371213</td>\n",
       "      <td>-0,415471</td>\n",
       "      <td>-0,549112</td>\n",
       "      <td>-0,4722</td>\n",
       "      <td>0,363383</td>\n",
       "      <td>0,33419</td>\n",
       "      <td>...</td>\n",
       "      <td>0</td>\n",
       "      <td>-0,049855</td>\n",
       "      <td>120.049</td>\n",
       "      <td>-0,078862</td>\n",
       "      <td>-0,021452</td>\n",
       "      <td>0</td>\n",
       "      <td>0</td>\n",
       "      <td>-0,014952</td>\n",
       "      <td>-0,021097</td>\n",
       "      <td>1</td>\n",
       "    </tr>\n",
       "    <tr>\n",
       "      <th>1</th>\n",
       "      <td>0,363763</td>\n",
       "      <td>0,146879</td>\n",
       "      <td>-0,83422</td>\n",
       "      <td>0,819986</td>\n",
       "      <td>0,504474</td>\n",
       "      <td>167.231</td>\n",
       "      <td>-0,774634</td>\n",
       "      <td>0,76555</td>\n",
       "      <td>0,355781</td>\n",
       "      <td>0,215197</td>\n",
       "      <td>...</td>\n",
       "      <td>0</td>\n",
       "      <td>-0,049855</td>\n",
       "      <td>129.994</td>\n",
       "      <td>-0,078862</td>\n",
       "      <td>-0,021452</td>\n",
       "      <td>0</td>\n",
       "      <td>0</td>\n",
       "      <td>-0,014952</td>\n",
       "      <td>-0,021097</td>\n",
       "      <td>1</td>\n",
       "    </tr>\n",
       "    <tr>\n",
       "      <th>2</th>\n",
       "      <td>-0,15592</td>\n",
       "      <td>-0,139025</td>\n",
       "      <td>-115.844</td>\n",
       "      <td>246.346</td>\n",
       "      <td>-0,463596</td>\n",
       "      <td>-138.827</td>\n",
       "      <td>-0,945256</td>\n",
       "      <td>260.892</td>\n",
       "      <td>-0,049767</td>\n",
       "      <td>0,846782</td>\n",
       "      <td>...</td>\n",
       "      <td>0</td>\n",
       "      <td>-0,049855</td>\n",
       "      <td>0,031608</td>\n",
       "      <td>0,182763</td>\n",
       "      <td>-0,021452</td>\n",
       "      <td>0</td>\n",
       "      <td>0</td>\n",
       "      <td>-0,014952</td>\n",
       "      <td>-0,021097</td>\n",
       "      <td>1</td>\n",
       "    </tr>\n",
       "    <tr>\n",
       "      <th>3</th>\n",
       "      <td>-122.972</td>\n",
       "      <td>-119.093</td>\n",
       "      <td>-0,364069</td>\n",
       "      <td>-132.571</td>\n",
       "      <td>-0,005645</td>\n",
       "      <td>-0,740226</td>\n",
       "      <td>-0,468026</td>\n",
       "      <td>-131.328</td>\n",
       "      <td>-0,082819</td>\n",
       "      <td>0,857917</td>\n",
       "      <td>...</td>\n",
       "      <td>0</td>\n",
       "      <td>-0,049855</td>\n",
       "      <td>0,591019</td>\n",
       "      <td>-0,078862</td>\n",
       "      <td>-0,021452</td>\n",
       "      <td>0</td>\n",
       "      <td>0</td>\n",
       "      <td>-0,014952</td>\n",
       "      <td>-0,021097</td>\n",
       "      <td>1</td>\n",
       "    </tr>\n",
       "    <tr>\n",
       "      <th>4</th>\n",
       "      <td>0,9162</td>\n",
       "      <td>0,265188</td>\n",
       "      <td>-0,252377</td>\n",
       "      <td>256.115</td>\n",
       "      <td>-0,128087</td>\n",
       "      <td>-0,105623</td>\n",
       "      <td>-0,302654</td>\n",
       "      <td>259.287</td>\n",
       "      <td>-0,167432</td>\n",
       "      <td>-0,626084</td>\n",
       "      <td>...</td>\n",
       "      <td>0</td>\n",
       "      <td>-0,049855</td>\n",
       "      <td>-0,114025</td>\n",
       "      <td>0,167061</td>\n",
       "      <td>-0,021452</td>\n",
       "      <td>0</td>\n",
       "      <td>0</td>\n",
       "      <td>-0,014952</td>\n",
       "      <td>-0,021097</td>\n",
       "      <td>1</td>\n",
       "    </tr>\n",
       "  </tbody>\n",
       "</table>\n",
       "<p>5 rows × 231 columns</p>\n",
       "</div>"
      ],
      "text/plain": [
       "      Atr-1      Atr-2      Atr-3      Atr-4      Atr-5      Atr-6      Atr-7  \\\n",
       "0  -0,28698  -0,624297  -0,679333  -0,455715   0,371213  -0,415471  -0,549112   \n",
       "1  0,363763   0,146879   -0,83422   0,819986   0,504474    167.231  -0,774634   \n",
       "2  -0,15592  -0,139025   -115.844    246.346  -0,463596   -138.827  -0,945256   \n",
       "3  -122.972   -119.093  -0,364069   -132.571  -0,005645  -0,740226  -0,468026   \n",
       "4    0,9162   0,265188  -0,252377    256.115  -0,128087  -0,105623  -0,302654   \n",
       "\n",
       "      Atr-8      Atr-9     Atr-10  ... Atr-222    Atr-223    Atr-224  \\\n",
       "0   -0,4722   0,363383    0,33419  ...       0  -0,049855    120.049   \n",
       "1   0,76555   0,355781   0,215197  ...       0  -0,049855    129.994   \n",
       "2   260.892  -0,049767   0,846782  ...       0  -0,049855   0,031608   \n",
       "3  -131.328  -0,082819   0,857917  ...       0  -0,049855   0,591019   \n",
       "4   259.287  -0,167432  -0,626084  ...       0  -0,049855  -0,114025   \n",
       "\n",
       "     Atr-225    Atr-226 Atr-227 Atr-228    Atr-229    Atr-230 CLASS  \n",
       "0  -0,078862  -0,021452       0       0  -0,014952  -0,021097     1  \n",
       "1  -0,078862  -0,021452       0       0  -0,014952  -0,021097     1  \n",
       "2   0,182763  -0,021452       0       0  -0,014952  -0,021097     1  \n",
       "3  -0,078862  -0,021452       0       0  -0,014952  -0,021097     1  \n",
       "4   0,167061  -0,021452       0       0  -0,014952  -0,021097     1  \n",
       "\n",
       "[5 rows x 231 columns]"
      ]
     },
     "execution_count": 160,
     "metadata": {},
     "output_type": "execute_result"
    }
   ],
   "source": [
    "print('Number of rows: ' + str(len(df_elephant)))\n",
    "print('Number of columns: ' + str(len(df_elephant.columns)))\n",
    "df_elephant.head()"
   ]
  },
  {
   "cell_type": "code",
   "execution_count": 161,
   "metadata": {},
   "outputs": [
    {
     "name": "stdout",
     "output_type": "stream",
     "text": [
      "Number of rows: 7400\n",
      "Number of columns: 21\n"
     ]
    },
    {
     "data": {
      "text/html": [
       "<div>\n",
       "<style scoped>\n",
       "    .dataframe tbody tr th:only-of-type {\n",
       "        vertical-align: middle;\n",
       "    }\n",
       "\n",
       "    .dataframe tbody tr th {\n",
       "        vertical-align: top;\n",
       "    }\n",
       "\n",
       "    .dataframe thead th {\n",
       "        text-align: right;\n",
       "    }\n",
       "</style>\n",
       "<table border=\"1\" class=\"dataframe\">\n",
       "  <thead>\n",
       "    <tr style=\"text-align: right;\">\n",
       "      <th></th>\n",
       "      <th>A1</th>\n",
       "      <th>A2</th>\n",
       "      <th>A3</th>\n",
       "      <th>A4</th>\n",
       "      <th>A5</th>\n",
       "      <th>A6</th>\n",
       "      <th>A7</th>\n",
       "      <th>A8</th>\n",
       "      <th>A9</th>\n",
       "      <th>A10</th>\n",
       "      <th>...</th>\n",
       "      <th>A12</th>\n",
       "      <th>A13</th>\n",
       "      <th>A14</th>\n",
       "      <th>A15</th>\n",
       "      <th>A16</th>\n",
       "      <th>A17</th>\n",
       "      <th>A18</th>\n",
       "      <th>A19</th>\n",
       "      <th>A20</th>\n",
       "      <th>Class</th>\n",
       "    </tr>\n",
       "  </thead>\n",
       "  <tbody>\n",
       "    <tr>\n",
       "      <th>0</th>\n",
       "      <td>849</td>\n",
       "      <td>2177</td>\n",
       "      <td>598</td>\n",
       "      <td>1689</td>\n",
       "      <td>3114</td>\n",
       "      <td>-3406</td>\n",
       "      <td>3799</td>\n",
       "      <td>-2642</td>\n",
       "      <td>1578</td>\n",
       "      <td>-181</td>\n",
       "      <td>...</td>\n",
       "      <td>1633</td>\n",
       "      <td>4664</td>\n",
       "      <td>1081</td>\n",
       "      <td>-1172</td>\n",
       "      <td>-166</td>\n",
       "      <td>578</td>\n",
       "      <td>1664</td>\n",
       "      <td>309</td>\n",
       "      <td>-3028</td>\n",
       "      <td>0</td>\n",
       "    </tr>\n",
       "    <tr>\n",
       "      <th>1</th>\n",
       "      <td>947</td>\n",
       "      <td>543</td>\n",
       "      <td>782</td>\n",
       "      <td>-449</td>\n",
       "      <td>-8</td>\n",
       "      <td>1316</td>\n",
       "      <td>756</td>\n",
       "      <td>-61</td>\n",
       "      <td>1604</td>\n",
       "      <td>1686</td>\n",
       "      <td>...</td>\n",
       "      <td>-382</td>\n",
       "      <td>1259</td>\n",
       "      <td>608</td>\n",
       "      <td>-2292</td>\n",
       "      <td>1008</td>\n",
       "      <td>2687</td>\n",
       "      <td>-1422</td>\n",
       "      <td>-606</td>\n",
       "      <td>2374</td>\n",
       "      <td>1</td>\n",
       "    </tr>\n",
       "    <tr>\n",
       "      <th>2</th>\n",
       "      <td>759</td>\n",
       "      <td>-314</td>\n",
       "      <td>898</td>\n",
       "      <td>-1743</td>\n",
       "      <td>2003</td>\n",
       "      <td>1117</td>\n",
       "      <td>911</td>\n",
       "      <td>136</td>\n",
       "      <td>-489</td>\n",
       "      <td>-144</td>\n",
       "      <td>...</td>\n",
       "      <td>112</td>\n",
       "      <td>598</td>\n",
       "      <td>474</td>\n",
       "      <td>2026</td>\n",
       "      <td>1431</td>\n",
       "      <td>-336</td>\n",
       "      <td>79</td>\n",
       "      <td>1123</td>\n",
       "      <td>302</td>\n",
       "      <td>1</td>\n",
       "    </tr>\n",
       "    <tr>\n",
       "      <th>3</th>\n",
       "      <td>531</td>\n",
       "      <td>1374</td>\n",
       "      <td>517</td>\n",
       "      <td>1226</td>\n",
       "      <td>1122</td>\n",
       "      <td>-4</td>\n",
       "      <td>-1227</td>\n",
       "      <td>2277</td>\n",
       "      <td>1083</td>\n",
       "      <td>888</td>\n",
       "      <td>...</td>\n",
       "      <td>1063</td>\n",
       "      <td>2454</td>\n",
       "      <td>587</td>\n",
       "      <td>-744</td>\n",
       "      <td>1216</td>\n",
       "      <td>916</td>\n",
       "      <td>-476</td>\n",
       "      <td>6</td>\n",
       "      <td>-477</td>\n",
       "      <td>1</td>\n",
       "    </tr>\n",
       "    <tr>\n",
       "      <th>4</th>\n",
       "      <td>-1443</td>\n",
       "      <td>1065</td>\n",
       "      <td>2071</td>\n",
       "      <td>207</td>\n",
       "      <td>-865</td>\n",
       "      <td>-786</td>\n",
       "      <td>2655</td>\n",
       "      <td>-366</td>\n",
       "      <td>971</td>\n",
       "      <td>-341</td>\n",
       "      <td>...</td>\n",
       "      <td>4195</td>\n",
       "      <td>-117</td>\n",
       "      <td>-2694</td>\n",
       "      <td>14</td>\n",
       "      <td>4097</td>\n",
       "      <td>1356</td>\n",
       "      <td>-944</td>\n",
       "      <td>-602</td>\n",
       "      <td>2348</td>\n",
       "      <td>0</td>\n",
       "    </tr>\n",
       "  </tbody>\n",
       "</table>\n",
       "<p>5 rows × 21 columns</p>\n",
       "</div>"
      ],
      "text/plain": [
       "     A1    A2    A3    A4    A5    A6    A7    A8    A9   A10  ...   A12  \\\n",
       "0   849  2177   598  1689  3114 -3406  3799 -2642  1578  -181  ...  1633   \n",
       "1   947   543   782  -449    -8  1316   756   -61  1604  1686  ...  -382   \n",
       "2   759  -314   898 -1743  2003  1117   911   136  -489  -144  ...   112   \n",
       "3   531  1374   517  1226  1122    -4 -1227  2277  1083   888  ...  1063   \n",
       "4 -1443  1065  2071   207  -865  -786  2655  -366   971  -341  ...  4195   \n",
       "\n",
       "    A13   A14   A15   A16   A17   A18   A19   A20  Class  \n",
       "0  4664  1081 -1172  -166   578  1664   309 -3028      0  \n",
       "1  1259   608 -2292  1008  2687 -1422  -606  2374      1  \n",
       "2   598   474  2026  1431  -336    79  1123   302      1  \n",
       "3  2454   587  -744  1216   916  -476     6  -477      1  \n",
       "4  -117 -2694    14  4097  1356  -944  -602  2348      0  \n",
       "\n",
       "[5 rows x 21 columns]"
      ]
     },
     "execution_count": 161,
     "metadata": {},
     "output_type": "execute_result"
    }
   ],
   "source": [
    "print('Number of rows: ' + str(len(df_ring)))\n",
    "print('Number of columns: ' + str(len(df_ring.columns)))\n",
    "\n",
    "df_ring.head()"
   ]
  },
  {
   "cell_type": "code",
   "execution_count": 162,
   "metadata": {},
   "outputs": [
    {
     "name": "stdout",
     "output_type": "stream",
     "text": [
      "Number of rows: 1484\n",
      "Number of columns: 9\n"
     ]
    },
    {
     "data": {
      "text/html": [
       "<div>\n",
       "<style scoped>\n",
       "    .dataframe tbody tr th:only-of-type {\n",
       "        vertical-align: middle;\n",
       "    }\n",
       "\n",
       "    .dataframe tbody tr th {\n",
       "        vertical-align: top;\n",
       "    }\n",
       "\n",
       "    .dataframe thead th {\n",
       "        text-align: right;\n",
       "    }\n",
       "</style>\n",
       "<table border=\"1\" class=\"dataframe\">\n",
       "  <thead>\n",
       "    <tr style=\"text-align: right;\">\n",
       "      <th></th>\n",
       "      <th>Mcg</th>\n",
       "      <th>Gvh</th>\n",
       "      <th>Alm</th>\n",
       "      <th>Mit</th>\n",
       "      <th>Erl</th>\n",
       "      <th>Pox</th>\n",
       "      <th>Vac</th>\n",
       "      <th>Nuc</th>\n",
       "      <th>Class</th>\n",
       "    </tr>\n",
       "  </thead>\n",
       "  <tbody>\n",
       "    <tr>\n",
       "      <th>0</th>\n",
       "      <td>0,58</td>\n",
       "      <td>0,61</td>\n",
       "      <td>0,47</td>\n",
       "      <td>0,13</td>\n",
       "      <td>0,5</td>\n",
       "      <td>0</td>\n",
       "      <td>0,48</td>\n",
       "      <td>0,22</td>\n",
       "      <td>negative</td>\n",
       "    </tr>\n",
       "    <tr>\n",
       "      <th>1</th>\n",
       "      <td>0,43</td>\n",
       "      <td>0,67</td>\n",
       "      <td>0,48</td>\n",
       "      <td>0,27</td>\n",
       "      <td>0,5</td>\n",
       "      <td>0</td>\n",
       "      <td>0,53</td>\n",
       "      <td>0,22</td>\n",
       "      <td>negative</td>\n",
       "    </tr>\n",
       "    <tr>\n",
       "      <th>2</th>\n",
       "      <td>0,64</td>\n",
       "      <td>0,62</td>\n",
       "      <td>0,49</td>\n",
       "      <td>0,15</td>\n",
       "      <td>0,5</td>\n",
       "      <td>0</td>\n",
       "      <td>0,53</td>\n",
       "      <td>0,22</td>\n",
       "      <td>negative</td>\n",
       "    </tr>\n",
       "    <tr>\n",
       "      <th>3</th>\n",
       "      <td>0,58</td>\n",
       "      <td>0,44</td>\n",
       "      <td>0,57</td>\n",
       "      <td>0,13</td>\n",
       "      <td>0,5</td>\n",
       "      <td>0</td>\n",
       "      <td>0,54</td>\n",
       "      <td>0,22</td>\n",
       "      <td>positive</td>\n",
       "    </tr>\n",
       "    <tr>\n",
       "      <th>4</th>\n",
       "      <td>0,42</td>\n",
       "      <td>0,44</td>\n",
       "      <td>0,48</td>\n",
       "      <td>0,54</td>\n",
       "      <td>0,5</td>\n",
       "      <td>0</td>\n",
       "      <td>0,48</td>\n",
       "      <td>0,22</td>\n",
       "      <td>negative</td>\n",
       "    </tr>\n",
       "  </tbody>\n",
       "</table>\n",
       "</div>"
      ],
      "text/plain": [
       "    Mcg   Gvh   Alm   Mit  Erl Pox   Vac   Nuc     Class\n",
       "0  0,58  0,61  0,47  0,13  0,5   0  0,48  0,22  negative\n",
       "1  0,43  0,67  0,48  0,27  0,5   0  0,53  0,22  negative\n",
       "2  0,64  0,62  0,49  0,15  0,5   0  0,53  0,22  negative\n",
       "3  0,58  0,44  0,57  0,13  0,5   0  0,54  0,22  positive\n",
       "4  0,42  0,44  0,48  0,54  0,5   0  0,48  0,22  negative"
      ]
     },
     "execution_count": 162,
     "metadata": {},
     "output_type": "execute_result"
    }
   ],
   "source": [
    "print('Number of rows: ' + str(len(df_yeast1)))\n",
    "print('Number of columns: ' + str(len(df_yeast1.columns)))\n",
    "df_yeast1.head()"
   ]
  },
  {
   "cell_type": "markdown",
   "metadata": {},
   "source": [
    "### First cleaning"
   ]
  },
  {
   "cell_type": "markdown",
   "metadata": {},
   "source": [
    "#### Funciones útiles"
   ]
  },
  {
   "cell_type": "code",
   "execution_count": 163,
   "metadata": {},
   "outputs": [],
   "source": [
    "def obtain_labels(df):\n",
    "    \n",
    "    if len(df.columns) == 231 or len(df.columns) == 21:\n",
    "        return list(df.iloc[:,-1])\n",
    "    else:\n",
    "        return [0 if label == 'negative' else 1 for label in list(df.iloc[:,-1])]"
   ]
  },
  {
   "cell_type": "code",
   "execution_count": 164,
   "metadata": {},
   "outputs": [],
   "source": [
    "def preprocess_dataframe(df, mode):\n",
    "    \n",
    "    ### Erase the duplicate samples\n",
    "    df = df.drop_duplicates() \n",
    "    \n",
    "    ### Obtain labels if we are in training\n",
    "    if mode == 'Train':\n",
    "        labels = obtain_labels(df)\n",
    "    else: \n",
    "        labels = []\n",
    "    \n",
    "    ### Clean columns that are uniques and does not give us any information\n",
    "    eliminate_columns = []\n",
    "    df = df.iloc[:,:-1]\n",
    "    for column in df.columns:\n",
    "        if df[column].dtype == 'object':\n",
    "            df[column] = pd.to_numeric(df[column].str.replace(',','.'), errors='coerce')\n",
    "        if len(df[column].unique()) == 1:\n",
    "            eliminate_columns.append(column)\n",
    "    df_drop = df.drop(eliminate_columns, axis=1)\n",
    "\n",
    "    return df_drop, labels, eliminate_columns"
   ]
  },
  {
   "cell_type": "code",
   "execution_count": 165,
   "metadata": {},
   "outputs": [],
   "source": [
    "data_elephant, labels_elephant, eliminate_elephant = preprocess_dataframe(df_elephant, 'Train')\n",
    "data_ring, labels_ring, eliminate_ring = preprocess_dataframe(df_ring, 'Train')\n",
    "data_yeast1, labels_yeast1, eliminate_yeast1 = preprocess_dataframe(df_yeast1,'Train')"
   ]
  },
  {
   "cell_type": "markdown",
   "metadata": {},
   "source": [
    "### Showing data preprocessed"
   ]
  },
  {
   "cell_type": "code",
   "execution_count": 166,
   "metadata": {},
   "outputs": [
    {
     "name": "stdout",
     "output_type": "stream",
     "text": [
      "Number of columns: 110\n",
      "Number of rows: 1391\n"
     ]
    },
    {
     "data": {
      "text/html": [
       "<div>\n",
       "<style scoped>\n",
       "    .dataframe tbody tr th:only-of-type {\n",
       "        vertical-align: middle;\n",
       "    }\n",
       "\n",
       "    .dataframe tbody tr th {\n",
       "        vertical-align: top;\n",
       "    }\n",
       "\n",
       "    .dataframe thead th {\n",
       "        text-align: right;\n",
       "    }\n",
       "</style>\n",
       "<table border=\"1\" class=\"dataframe\">\n",
       "  <thead>\n",
       "    <tr style=\"text-align: right;\">\n",
       "      <th></th>\n",
       "      <th>Atr-1</th>\n",
       "      <th>Atr-2</th>\n",
       "      <th>Atr-3</th>\n",
       "      <th>Atr-4</th>\n",
       "      <th>Atr-5</th>\n",
       "      <th>Atr-6</th>\n",
       "      <th>Atr-7</th>\n",
       "      <th>Atr-8</th>\n",
       "      <th>Atr-9</th>\n",
       "      <th>Atr-10</th>\n",
       "      <th>...</th>\n",
       "      <th>Atr-211</th>\n",
       "      <th>Atr-215</th>\n",
       "      <th>Atr-216</th>\n",
       "      <th>Atr-217</th>\n",
       "      <th>Atr-218</th>\n",
       "      <th>Atr-219</th>\n",
       "      <th>Atr-223</th>\n",
       "      <th>Atr-224</th>\n",
       "      <th>Atr-225</th>\n",
       "      <th>Atr-226</th>\n",
       "    </tr>\n",
       "  </thead>\n",
       "  <tbody>\n",
       "    <tr>\n",
       "      <th>0</th>\n",
       "      <td>-0.286980</td>\n",
       "      <td>-0.624297</td>\n",
       "      <td>-0.679333</td>\n",
       "      <td>-0.455715</td>\n",
       "      <td>0.371213</td>\n",
       "      <td>-0.415471</td>\n",
       "      <td>-0.549112</td>\n",
       "      <td>-0.47220</td>\n",
       "      <td>0.363383</td>\n",
       "      <td>0.334190</td>\n",
       "      <td>...</td>\n",
       "      <td>-0.037709</td>\n",
       "      <td>-0.242745</td>\n",
       "      <td>-0.173706</td>\n",
       "      <td>-0.308654</td>\n",
       "      <td>165.218000</td>\n",
       "      <td>-0.017565</td>\n",
       "      <td>-0.049855</td>\n",
       "      <td>120.049000</td>\n",
       "      <td>-0.078862</td>\n",
       "      <td>-0.021452</td>\n",
       "    </tr>\n",
       "    <tr>\n",
       "      <th>1</th>\n",
       "      <td>0.363763</td>\n",
       "      <td>0.146879</td>\n",
       "      <td>-0.834220</td>\n",
       "      <td>0.819986</td>\n",
       "      <td>0.504474</td>\n",
       "      <td>167.231000</td>\n",
       "      <td>-0.774634</td>\n",
       "      <td>0.76555</td>\n",
       "      <td>0.355781</td>\n",
       "      <td>0.215197</td>\n",
       "      <td>...</td>\n",
       "      <td>-0.037709</td>\n",
       "      <td>-0.265739</td>\n",
       "      <td>-0.149831</td>\n",
       "      <td>-0.321915</td>\n",
       "      <td>0.817139</td>\n",
       "      <td>-0.017565</td>\n",
       "      <td>-0.049855</td>\n",
       "      <td>129.994000</td>\n",
       "      <td>-0.078862</td>\n",
       "      <td>-0.021452</td>\n",
       "    </tr>\n",
       "    <tr>\n",
       "      <th>2</th>\n",
       "      <td>-0.155920</td>\n",
       "      <td>-0.139025</td>\n",
       "      <td>-115.844000</td>\n",
       "      <td>246.346000</td>\n",
       "      <td>-0.463596</td>\n",
       "      <td>-138.827000</td>\n",
       "      <td>-0.945256</td>\n",
       "      <td>260.89200</td>\n",
       "      <td>-0.049767</td>\n",
       "      <td>0.846782</td>\n",
       "      <td>...</td>\n",
       "      <td>-0.037709</td>\n",
       "      <td>-0.265739</td>\n",
       "      <td>0.502075</td>\n",
       "      <td>-0.399635</td>\n",
       "      <td>-0.102856</td>\n",
       "      <td>-0.017565</td>\n",
       "      <td>-0.049855</td>\n",
       "      <td>0.031608</td>\n",
       "      <td>0.182763</td>\n",
       "      <td>-0.021452</td>\n",
       "    </tr>\n",
       "    <tr>\n",
       "      <th>3</th>\n",
       "      <td>-122.972000</td>\n",
       "      <td>-119.093000</td>\n",
       "      <td>-0.364069</td>\n",
       "      <td>-132.571000</td>\n",
       "      <td>-0.005645</td>\n",
       "      <td>-0.740226</td>\n",
       "      <td>-0.468026</td>\n",
       "      <td>-131.32800</td>\n",
       "      <td>-0.082819</td>\n",
       "      <td>0.857917</td>\n",
       "      <td>...</td>\n",
       "      <td>-0.037709</td>\n",
       "      <td>-0.265739</td>\n",
       "      <td>-0.337459</td>\n",
       "      <td>-0.311496</td>\n",
       "      <td>11.019000</td>\n",
       "      <td>-0.017565</td>\n",
       "      <td>-0.049855</td>\n",
       "      <td>0.591019</td>\n",
       "      <td>-0.078862</td>\n",
       "      <td>-0.021452</td>\n",
       "    </tr>\n",
       "    <tr>\n",
       "      <th>4</th>\n",
       "      <td>0.916200</td>\n",
       "      <td>0.265188</td>\n",
       "      <td>-0.252377</td>\n",
       "      <td>256.115000</td>\n",
       "      <td>-0.128087</td>\n",
       "      <td>-0.105623</td>\n",
       "      <td>-0.302654</td>\n",
       "      <td>259.28700</td>\n",
       "      <td>-0.167432</td>\n",
       "      <td>-0.626084</td>\n",
       "      <td>...</td>\n",
       "      <td>-0.037709</td>\n",
       "      <td>-0.265739</td>\n",
       "      <td>133.835000</td>\n",
       "      <td>-0.378855</td>\n",
       "      <td>-0.102856</td>\n",
       "      <td>-0.017565</td>\n",
       "      <td>-0.049855</td>\n",
       "      <td>-0.114025</td>\n",
       "      <td>0.167061</td>\n",
       "      <td>-0.021452</td>\n",
       "    </tr>\n",
       "  </tbody>\n",
       "</table>\n",
       "<p>5 rows × 110 columns</p>\n",
       "</div>"
      ],
      "text/plain": [
       "        Atr-1       Atr-2       Atr-3       Atr-4     Atr-5       Atr-6  \\\n",
       "0   -0.286980   -0.624297   -0.679333   -0.455715  0.371213   -0.415471   \n",
       "1    0.363763    0.146879   -0.834220    0.819986  0.504474  167.231000   \n",
       "2   -0.155920   -0.139025 -115.844000  246.346000 -0.463596 -138.827000   \n",
       "3 -122.972000 -119.093000   -0.364069 -132.571000 -0.005645   -0.740226   \n",
       "4    0.916200    0.265188   -0.252377  256.115000 -0.128087   -0.105623   \n",
       "\n",
       "      Atr-7      Atr-8     Atr-9    Atr-10  ...   Atr-211   Atr-215  \\\n",
       "0 -0.549112   -0.47220  0.363383  0.334190  ... -0.037709 -0.242745   \n",
       "1 -0.774634    0.76555  0.355781  0.215197  ... -0.037709 -0.265739   \n",
       "2 -0.945256  260.89200 -0.049767  0.846782  ... -0.037709 -0.265739   \n",
       "3 -0.468026 -131.32800 -0.082819  0.857917  ... -0.037709 -0.265739   \n",
       "4 -0.302654  259.28700 -0.167432 -0.626084  ... -0.037709 -0.265739   \n",
       "\n",
       "      Atr-216   Atr-217     Atr-218   Atr-219   Atr-223     Atr-224   Atr-225  \\\n",
       "0   -0.173706 -0.308654  165.218000 -0.017565 -0.049855  120.049000 -0.078862   \n",
       "1   -0.149831 -0.321915    0.817139 -0.017565 -0.049855  129.994000 -0.078862   \n",
       "2    0.502075 -0.399635   -0.102856 -0.017565 -0.049855    0.031608  0.182763   \n",
       "3   -0.337459 -0.311496   11.019000 -0.017565 -0.049855    0.591019 -0.078862   \n",
       "4  133.835000 -0.378855   -0.102856 -0.017565 -0.049855   -0.114025  0.167061   \n",
       "\n",
       "    Atr-226  \n",
       "0 -0.021452  \n",
       "1 -0.021452  \n",
       "2 -0.021452  \n",
       "3 -0.021452  \n",
       "4 -0.021452  \n",
       "\n",
       "[5 rows x 110 columns]"
      ]
     },
     "execution_count": 166,
     "metadata": {},
     "output_type": "execute_result"
    }
   ],
   "source": [
    "print('Number of columns: ' + str(len(data_elephant.columns)))\n",
    "print('Number of rows: ' + str(len(data_elephant)))\n",
    "data_elephant.head()"
   ]
  },
  {
   "cell_type": "code",
   "execution_count": 167,
   "metadata": {},
   "outputs": [
    {
     "name": "stdout",
     "output_type": "stream",
     "text": [
      "Number of columns: 20\n",
      "Number of rows: 7400\n"
     ]
    },
    {
     "data": {
      "text/html": [
       "<div>\n",
       "<style scoped>\n",
       "    .dataframe tbody tr th:only-of-type {\n",
       "        vertical-align: middle;\n",
       "    }\n",
       "\n",
       "    .dataframe tbody tr th {\n",
       "        vertical-align: top;\n",
       "    }\n",
       "\n",
       "    .dataframe thead th {\n",
       "        text-align: right;\n",
       "    }\n",
       "</style>\n",
       "<table border=\"1\" class=\"dataframe\">\n",
       "  <thead>\n",
       "    <tr style=\"text-align: right;\">\n",
       "      <th></th>\n",
       "      <th>A1</th>\n",
       "      <th>A2</th>\n",
       "      <th>A3</th>\n",
       "      <th>A4</th>\n",
       "      <th>A5</th>\n",
       "      <th>A6</th>\n",
       "      <th>A7</th>\n",
       "      <th>A8</th>\n",
       "      <th>A9</th>\n",
       "      <th>A10</th>\n",
       "      <th>A11</th>\n",
       "      <th>A12</th>\n",
       "      <th>A13</th>\n",
       "      <th>A14</th>\n",
       "      <th>A15</th>\n",
       "      <th>A16</th>\n",
       "      <th>A17</th>\n",
       "      <th>A18</th>\n",
       "      <th>A19</th>\n",
       "      <th>A20</th>\n",
       "    </tr>\n",
       "  </thead>\n",
       "  <tbody>\n",
       "    <tr>\n",
       "      <th>0</th>\n",
       "      <td>849</td>\n",
       "      <td>2177</td>\n",
       "      <td>598</td>\n",
       "      <td>1689</td>\n",
       "      <td>3114</td>\n",
       "      <td>-3406</td>\n",
       "      <td>3799</td>\n",
       "      <td>-2642</td>\n",
       "      <td>1578</td>\n",
       "      <td>-181</td>\n",
       "      <td>-212</td>\n",
       "      <td>1633</td>\n",
       "      <td>4664</td>\n",
       "      <td>1081</td>\n",
       "      <td>-1172</td>\n",
       "      <td>-166</td>\n",
       "      <td>578</td>\n",
       "      <td>1664</td>\n",
       "      <td>309</td>\n",
       "      <td>-3028</td>\n",
       "    </tr>\n",
       "    <tr>\n",
       "      <th>1</th>\n",
       "      <td>947</td>\n",
       "      <td>543</td>\n",
       "      <td>782</td>\n",
       "      <td>-449</td>\n",
       "      <td>-8</td>\n",
       "      <td>1316</td>\n",
       "      <td>756</td>\n",
       "      <td>-61</td>\n",
       "      <td>1604</td>\n",
       "      <td>1686</td>\n",
       "      <td>264</td>\n",
       "      <td>-382</td>\n",
       "      <td>1259</td>\n",
       "      <td>608</td>\n",
       "      <td>-2292</td>\n",
       "      <td>1008</td>\n",
       "      <td>2687</td>\n",
       "      <td>-1422</td>\n",
       "      <td>-606</td>\n",
       "      <td>2374</td>\n",
       "    </tr>\n",
       "    <tr>\n",
       "      <th>2</th>\n",
       "      <td>759</td>\n",
       "      <td>-314</td>\n",
       "      <td>898</td>\n",
       "      <td>-1743</td>\n",
       "      <td>2003</td>\n",
       "      <td>1117</td>\n",
       "      <td>911</td>\n",
       "      <td>136</td>\n",
       "      <td>-489</td>\n",
       "      <td>-144</td>\n",
       "      <td>982</td>\n",
       "      <td>112</td>\n",
       "      <td>598</td>\n",
       "      <td>474</td>\n",
       "      <td>2026</td>\n",
       "      <td>1431</td>\n",
       "      <td>-336</td>\n",
       "      <td>79</td>\n",
       "      <td>1123</td>\n",
       "      <td>302</td>\n",
       "    </tr>\n",
       "    <tr>\n",
       "      <th>3</th>\n",
       "      <td>531</td>\n",
       "      <td>1374</td>\n",
       "      <td>517</td>\n",
       "      <td>1226</td>\n",
       "      <td>1122</td>\n",
       "      <td>-4</td>\n",
       "      <td>-1227</td>\n",
       "      <td>2277</td>\n",
       "      <td>1083</td>\n",
       "      <td>888</td>\n",
       "      <td>-111</td>\n",
       "      <td>1063</td>\n",
       "      <td>2454</td>\n",
       "      <td>587</td>\n",
       "      <td>-744</td>\n",
       "      <td>1216</td>\n",
       "      <td>916</td>\n",
       "      <td>-476</td>\n",
       "      <td>6</td>\n",
       "      <td>-477</td>\n",
       "    </tr>\n",
       "    <tr>\n",
       "      <th>4</th>\n",
       "      <td>-1443</td>\n",
       "      <td>1065</td>\n",
       "      <td>2071</td>\n",
       "      <td>207</td>\n",
       "      <td>-865</td>\n",
       "      <td>-786</td>\n",
       "      <td>2655</td>\n",
       "      <td>-366</td>\n",
       "      <td>971</td>\n",
       "      <td>-341</td>\n",
       "      <td>221</td>\n",
       "      <td>4195</td>\n",
       "      <td>-117</td>\n",
       "      <td>-2694</td>\n",
       "      <td>14</td>\n",
       "      <td>4097</td>\n",
       "      <td>1356</td>\n",
       "      <td>-944</td>\n",
       "      <td>-602</td>\n",
       "      <td>2348</td>\n",
       "    </tr>\n",
       "  </tbody>\n",
       "</table>\n",
       "</div>"
      ],
      "text/plain": [
       "     A1    A2    A3    A4    A5    A6    A7    A8    A9   A10  A11   A12  \\\n",
       "0   849  2177   598  1689  3114 -3406  3799 -2642  1578  -181 -212  1633   \n",
       "1   947   543   782  -449    -8  1316   756   -61  1604  1686  264  -382   \n",
       "2   759  -314   898 -1743  2003  1117   911   136  -489  -144  982   112   \n",
       "3   531  1374   517  1226  1122    -4 -1227  2277  1083   888 -111  1063   \n",
       "4 -1443  1065  2071   207  -865  -786  2655  -366   971  -341  221  4195   \n",
       "\n",
       "    A13   A14   A15   A16   A17   A18   A19   A20  \n",
       "0  4664  1081 -1172  -166   578  1664   309 -3028  \n",
       "1  1259   608 -2292  1008  2687 -1422  -606  2374  \n",
       "2   598   474  2026  1431  -336    79  1123   302  \n",
       "3  2454   587  -744  1216   916  -476     6  -477  \n",
       "4  -117 -2694    14  4097  1356  -944  -602  2348  "
      ]
     },
     "execution_count": 167,
     "metadata": {},
     "output_type": "execute_result"
    }
   ],
   "source": [
    "print('Number of columns: ' + str(len(data_ring.columns)))\n",
    "print('Number of rows: ' + str(len(data_ring)))\n",
    "data_ring.head()"
   ]
  },
  {
   "cell_type": "code",
   "execution_count": 168,
   "metadata": {},
   "outputs": [
    {
     "name": "stdout",
     "output_type": "stream",
     "text": [
      "Number of columns: 8\n",
      "Number of rows: 1453\n"
     ]
    },
    {
     "data": {
      "text/html": [
       "<div>\n",
       "<style scoped>\n",
       "    .dataframe tbody tr th:only-of-type {\n",
       "        vertical-align: middle;\n",
       "    }\n",
       "\n",
       "    .dataframe tbody tr th {\n",
       "        vertical-align: top;\n",
       "    }\n",
       "\n",
       "    .dataframe thead th {\n",
       "        text-align: right;\n",
       "    }\n",
       "</style>\n",
       "<table border=\"1\" class=\"dataframe\">\n",
       "  <thead>\n",
       "    <tr style=\"text-align: right;\">\n",
       "      <th></th>\n",
       "      <th>Mcg</th>\n",
       "      <th>Gvh</th>\n",
       "      <th>Alm</th>\n",
       "      <th>Mit</th>\n",
       "      <th>Erl</th>\n",
       "      <th>Pox</th>\n",
       "      <th>Vac</th>\n",
       "      <th>Nuc</th>\n",
       "    </tr>\n",
       "  </thead>\n",
       "  <tbody>\n",
       "    <tr>\n",
       "      <th>0</th>\n",
       "      <td>0.58</td>\n",
       "      <td>0.61</td>\n",
       "      <td>0.47</td>\n",
       "      <td>0.13</td>\n",
       "      <td>0.5</td>\n",
       "      <td>0.0</td>\n",
       "      <td>0.48</td>\n",
       "      <td>0.22</td>\n",
       "    </tr>\n",
       "    <tr>\n",
       "      <th>1</th>\n",
       "      <td>0.43</td>\n",
       "      <td>0.67</td>\n",
       "      <td>0.48</td>\n",
       "      <td>0.27</td>\n",
       "      <td>0.5</td>\n",
       "      <td>0.0</td>\n",
       "      <td>0.53</td>\n",
       "      <td>0.22</td>\n",
       "    </tr>\n",
       "    <tr>\n",
       "      <th>2</th>\n",
       "      <td>0.64</td>\n",
       "      <td>0.62</td>\n",
       "      <td>0.49</td>\n",
       "      <td>0.15</td>\n",
       "      <td>0.5</td>\n",
       "      <td>0.0</td>\n",
       "      <td>0.53</td>\n",
       "      <td>0.22</td>\n",
       "    </tr>\n",
       "    <tr>\n",
       "      <th>3</th>\n",
       "      <td>0.58</td>\n",
       "      <td>0.44</td>\n",
       "      <td>0.57</td>\n",
       "      <td>0.13</td>\n",
       "      <td>0.5</td>\n",
       "      <td>0.0</td>\n",
       "      <td>0.54</td>\n",
       "      <td>0.22</td>\n",
       "    </tr>\n",
       "    <tr>\n",
       "      <th>4</th>\n",
       "      <td>0.42</td>\n",
       "      <td>0.44</td>\n",
       "      <td>0.48</td>\n",
       "      <td>0.54</td>\n",
       "      <td>0.5</td>\n",
       "      <td>0.0</td>\n",
       "      <td>0.48</td>\n",
       "      <td>0.22</td>\n",
       "    </tr>\n",
       "  </tbody>\n",
       "</table>\n",
       "</div>"
      ],
      "text/plain": [
       "    Mcg   Gvh   Alm   Mit  Erl  Pox   Vac   Nuc\n",
       "0  0.58  0.61  0.47  0.13  0.5  0.0  0.48  0.22\n",
       "1  0.43  0.67  0.48  0.27  0.5  0.0  0.53  0.22\n",
       "2  0.64  0.62  0.49  0.15  0.5  0.0  0.53  0.22\n",
       "3  0.58  0.44  0.57  0.13  0.5  0.0  0.54  0.22\n",
       "4  0.42  0.44  0.48  0.54  0.5  0.0  0.48  0.22"
      ]
     },
     "execution_count": 168,
     "metadata": {},
     "output_type": "execute_result"
    }
   ],
   "source": [
    "print('Number of columns: ' + str(len(data_yeast1.columns)))\n",
    "print('Number of rows: ' + str(len(data_yeast1)))\n",
    "data_yeast1.head()"
   ]
  },
  {
   "cell_type": "markdown",
   "metadata": {},
   "source": [
    "### Correlation data"
   ]
  },
  {
   "cell_type": "markdown",
   "metadata": {},
   "source": [
    "Función que crea un diccionario con key: atributo y value: atributos más parecidos y su porcentaje de correlación en una tupla"
   ]
  },
  {
   "cell_type": "code",
   "execution_count": 169,
   "metadata": {},
   "outputs": [],
   "source": [
    "def calculate_corr(df):\n",
    "    return df.corr() "
   ]
  },
  {
   "cell_type": "code",
   "execution_count": 170,
   "metadata": {},
   "outputs": [],
   "source": [
    "def topn_corr(df, top_n):\n",
    "    \n",
    "    top_n = top_n+1\n",
    "    correlation = calculate_corr(df)\n",
    "    all_corr = {}\n",
    "    for column in correlation.columns:\n",
    "        top = correlation[column].nlargest(top_n)\n",
    "        indexes = list((top).index)[1:]\n",
    "        all_corr[column] = (indexes, list(top)[1:])\n",
    "    \n",
    "    return all_corr"
   ]
  },
  {
   "cell_type": "code",
   "execution_count": 171,
   "metadata": {},
   "outputs": [],
   "source": [
    "corr_elephant = calculate_corr(data_elephant)\n",
    "corr_ring = calculate_corr(data_ring)\n",
    "corr_yeast1 = calculate_corr(data_yeast1)"
   ]
  },
  {
   "cell_type": "code",
   "execution_count": 172,
   "metadata": {},
   "outputs": [],
   "source": [
    "def eliminate_corr_features(df, corr, threshold):\n",
    "    columns = np.full((corr.shape[0],), True, dtype=bool)\n",
    "    for i in range(corr.shape[0]):\n",
    "        for j in range(i+1, corr.shape[0]):\n",
    "            if corr.iloc[i,j] >= threshold:\n",
    "                if columns[j]:\n",
    "                    columns[j] = False\n",
    "    selected_columns = df.columns[columns]\n",
    "    df = df[selected_columns]\n",
    "    \n",
    "    return df"
   ]
  },
  {
   "cell_type": "code",
   "execution_count": 173,
   "metadata": {},
   "outputs": [],
   "source": [
    "data_elephant_nocorr = eliminate_corr_features(data_elephant, corr_elephant, 0.8)\n",
    "data_ring_nocorr = eliminate_corr_features(data_ring, corr_ring, 0.8)\n",
    "data_yeast1_nocorr = eliminate_corr_features(data_yeast1, corr_yeast1, 0.8)"
   ]
  },
  {
   "cell_type": "code",
   "execution_count": 174,
   "metadata": {},
   "outputs": [
    {
     "name": "stdout",
     "output_type": "stream",
     "text": [
      "Number of columns: 106\n",
      "Number of rows: 1391\n"
     ]
    },
    {
     "data": {
      "text/html": [
       "<div>\n",
       "<style scoped>\n",
       "    .dataframe tbody tr th:only-of-type {\n",
       "        vertical-align: middle;\n",
       "    }\n",
       "\n",
       "    .dataframe tbody tr th {\n",
       "        vertical-align: top;\n",
       "    }\n",
       "\n",
       "    .dataframe thead th {\n",
       "        text-align: right;\n",
       "    }\n",
       "</style>\n",
       "<table border=\"1\" class=\"dataframe\">\n",
       "  <thead>\n",
       "    <tr style=\"text-align: right;\">\n",
       "      <th></th>\n",
       "      <th>Atr-1</th>\n",
       "      <th>Atr-3</th>\n",
       "      <th>Atr-4</th>\n",
       "      <th>Atr-5</th>\n",
       "      <th>Atr-6</th>\n",
       "      <th>Atr-9</th>\n",
       "      <th>Atr-10</th>\n",
       "      <th>Atr-11</th>\n",
       "      <th>Atr-12</th>\n",
       "      <th>Atr-13</th>\n",
       "      <th>...</th>\n",
       "      <th>Atr-211</th>\n",
       "      <th>Atr-215</th>\n",
       "      <th>Atr-216</th>\n",
       "      <th>Atr-217</th>\n",
       "      <th>Atr-218</th>\n",
       "      <th>Atr-219</th>\n",
       "      <th>Atr-223</th>\n",
       "      <th>Atr-224</th>\n",
       "      <th>Atr-225</th>\n",
       "      <th>Atr-226</th>\n",
       "    </tr>\n",
       "  </thead>\n",
       "  <tbody>\n",
       "    <tr>\n",
       "      <th>0</th>\n",
       "      <td>-0.286980</td>\n",
       "      <td>-0.679333</td>\n",
       "      <td>-0.455715</td>\n",
       "      <td>0.371213</td>\n",
       "      <td>-0.415471</td>\n",
       "      <td>0.363383</td>\n",
       "      <td>0.334190</td>\n",
       "      <td>154.853000</td>\n",
       "      <td>267.959000</td>\n",
       "      <td>-0.054535</td>\n",
       "      <td>...</td>\n",
       "      <td>-0.037709</td>\n",
       "      <td>-0.242745</td>\n",
       "      <td>-0.173706</td>\n",
       "      <td>-0.308654</td>\n",
       "      <td>165.218000</td>\n",
       "      <td>-0.017565</td>\n",
       "      <td>-0.049855</td>\n",
       "      <td>120.049000</td>\n",
       "      <td>-0.078862</td>\n",
       "      <td>-0.021452</td>\n",
       "    </tr>\n",
       "    <tr>\n",
       "      <th>1</th>\n",
       "      <td>0.363763</td>\n",
       "      <td>-0.834220</td>\n",
       "      <td>0.819986</td>\n",
       "      <td>0.504474</td>\n",
       "      <td>167.231000</td>\n",
       "      <td>0.355781</td>\n",
       "      <td>0.215197</td>\n",
       "      <td>12.667000</td>\n",
       "      <td>127.461000</td>\n",
       "      <td>-0.054535</td>\n",
       "      <td>...</td>\n",
       "      <td>-0.037709</td>\n",
       "      <td>-0.265739</td>\n",
       "      <td>-0.149831</td>\n",
       "      <td>-0.321915</td>\n",
       "      <td>0.817139</td>\n",
       "      <td>-0.017565</td>\n",
       "      <td>-0.049855</td>\n",
       "      <td>129.994000</td>\n",
       "      <td>-0.078862</td>\n",
       "      <td>-0.021452</td>\n",
       "    </tr>\n",
       "    <tr>\n",
       "      <th>2</th>\n",
       "      <td>-0.155920</td>\n",
       "      <td>-115.844000</td>\n",
       "      <td>246.346000</td>\n",
       "      <td>-0.463596</td>\n",
       "      <td>-138.827000</td>\n",
       "      <td>-0.049767</td>\n",
       "      <td>0.846782</td>\n",
       "      <td>124.899000</td>\n",
       "      <td>-0.736989</td>\n",
       "      <td>-0.054535</td>\n",
       "      <td>...</td>\n",
       "      <td>-0.037709</td>\n",
       "      <td>-0.265739</td>\n",
       "      <td>0.502075</td>\n",
       "      <td>-0.399635</td>\n",
       "      <td>-0.102856</td>\n",
       "      <td>-0.017565</td>\n",
       "      <td>-0.049855</td>\n",
       "      <td>0.031608</td>\n",
       "      <td>0.182763</td>\n",
       "      <td>-0.021452</td>\n",
       "    </tr>\n",
       "    <tr>\n",
       "      <th>3</th>\n",
       "      <td>-122.972000</td>\n",
       "      <td>-0.364069</td>\n",
       "      <td>-132.571000</td>\n",
       "      <td>-0.005645</td>\n",
       "      <td>-0.740226</td>\n",
       "      <td>-0.082819</td>\n",
       "      <td>0.857917</td>\n",
       "      <td>0.649394</td>\n",
       "      <td>34.339000</td>\n",
       "      <td>-0.054535</td>\n",
       "      <td>...</td>\n",
       "      <td>-0.037709</td>\n",
       "      <td>-0.265739</td>\n",
       "      <td>-0.337459</td>\n",
       "      <td>-0.311496</td>\n",
       "      <td>11.019000</td>\n",
       "      <td>-0.017565</td>\n",
       "      <td>-0.049855</td>\n",
       "      <td>0.591019</td>\n",
       "      <td>-0.078862</td>\n",
       "      <td>-0.021452</td>\n",
       "    </tr>\n",
       "    <tr>\n",
       "      <th>4</th>\n",
       "      <td>0.916200</td>\n",
       "      <td>-0.252377</td>\n",
       "      <td>256.115000</td>\n",
       "      <td>-0.128087</td>\n",
       "      <td>-0.105623</td>\n",
       "      <td>-0.167432</td>\n",
       "      <td>-0.626084</td>\n",
       "      <td>156.991000</td>\n",
       "      <td>0.629992</td>\n",
       "      <td>-0.054535</td>\n",
       "      <td>...</td>\n",
       "      <td>-0.037709</td>\n",
       "      <td>-0.265739</td>\n",
       "      <td>133.835000</td>\n",
       "      <td>-0.378855</td>\n",
       "      <td>-0.102856</td>\n",
       "      <td>-0.017565</td>\n",
       "      <td>-0.049855</td>\n",
       "      <td>-0.114025</td>\n",
       "      <td>0.167061</td>\n",
       "      <td>-0.021452</td>\n",
       "    </tr>\n",
       "  </tbody>\n",
       "</table>\n",
       "<p>5 rows × 106 columns</p>\n",
       "</div>"
      ],
      "text/plain": [
       "        Atr-1       Atr-3       Atr-4     Atr-5       Atr-6     Atr-9  \\\n",
       "0   -0.286980   -0.679333   -0.455715  0.371213   -0.415471  0.363383   \n",
       "1    0.363763   -0.834220    0.819986  0.504474  167.231000  0.355781   \n",
       "2   -0.155920 -115.844000  246.346000 -0.463596 -138.827000 -0.049767   \n",
       "3 -122.972000   -0.364069 -132.571000 -0.005645   -0.740226 -0.082819   \n",
       "4    0.916200   -0.252377  256.115000 -0.128087   -0.105623 -0.167432   \n",
       "\n",
       "     Atr-10      Atr-11      Atr-12    Atr-13  ...   Atr-211   Atr-215  \\\n",
       "0  0.334190  154.853000  267.959000 -0.054535  ... -0.037709 -0.242745   \n",
       "1  0.215197   12.667000  127.461000 -0.054535  ... -0.037709 -0.265739   \n",
       "2  0.846782  124.899000   -0.736989 -0.054535  ... -0.037709 -0.265739   \n",
       "3  0.857917    0.649394   34.339000 -0.054535  ... -0.037709 -0.265739   \n",
       "4 -0.626084  156.991000    0.629992 -0.054535  ... -0.037709 -0.265739   \n",
       "\n",
       "      Atr-216   Atr-217     Atr-218   Atr-219   Atr-223     Atr-224   Atr-225  \\\n",
       "0   -0.173706 -0.308654  165.218000 -0.017565 -0.049855  120.049000 -0.078862   \n",
       "1   -0.149831 -0.321915    0.817139 -0.017565 -0.049855  129.994000 -0.078862   \n",
       "2    0.502075 -0.399635   -0.102856 -0.017565 -0.049855    0.031608  0.182763   \n",
       "3   -0.337459 -0.311496   11.019000 -0.017565 -0.049855    0.591019 -0.078862   \n",
       "4  133.835000 -0.378855   -0.102856 -0.017565 -0.049855   -0.114025  0.167061   \n",
       "\n",
       "    Atr-226  \n",
       "0 -0.021452  \n",
       "1 -0.021452  \n",
       "2 -0.021452  \n",
       "3 -0.021452  \n",
       "4 -0.021452  \n",
       "\n",
       "[5 rows x 106 columns]"
      ]
     },
     "execution_count": 174,
     "metadata": {},
     "output_type": "execute_result"
    }
   ],
   "source": [
    "print('Number of columns: ' + str(len(data_elephant_nocorr.columns)))\n",
    "print('Number of rows: ' + str(len(data_elephant_nocorr)))\n",
    "\n",
    "data_elephant_nocorr.head()"
   ]
  },
  {
   "cell_type": "code",
   "execution_count": 175,
   "metadata": {},
   "outputs": [
    {
     "name": "stdout",
     "output_type": "stream",
     "text": [
      "Number of columns: 20\n",
      "Number of rows: 7400\n"
     ]
    },
    {
     "data": {
      "text/html": [
       "<div>\n",
       "<style scoped>\n",
       "    .dataframe tbody tr th:only-of-type {\n",
       "        vertical-align: middle;\n",
       "    }\n",
       "\n",
       "    .dataframe tbody tr th {\n",
       "        vertical-align: top;\n",
       "    }\n",
       "\n",
       "    .dataframe thead th {\n",
       "        text-align: right;\n",
       "    }\n",
       "</style>\n",
       "<table border=\"1\" class=\"dataframe\">\n",
       "  <thead>\n",
       "    <tr style=\"text-align: right;\">\n",
       "      <th></th>\n",
       "      <th>A1</th>\n",
       "      <th>A2</th>\n",
       "      <th>A3</th>\n",
       "      <th>A4</th>\n",
       "      <th>A5</th>\n",
       "      <th>A6</th>\n",
       "      <th>A7</th>\n",
       "      <th>A8</th>\n",
       "      <th>A9</th>\n",
       "      <th>A10</th>\n",
       "      <th>A11</th>\n",
       "      <th>A12</th>\n",
       "      <th>A13</th>\n",
       "      <th>A14</th>\n",
       "      <th>A15</th>\n",
       "      <th>A16</th>\n",
       "      <th>A17</th>\n",
       "      <th>A18</th>\n",
       "      <th>A19</th>\n",
       "      <th>A20</th>\n",
       "    </tr>\n",
       "  </thead>\n",
       "  <tbody>\n",
       "    <tr>\n",
       "      <th>0</th>\n",
       "      <td>849</td>\n",
       "      <td>2177</td>\n",
       "      <td>598</td>\n",
       "      <td>1689</td>\n",
       "      <td>3114</td>\n",
       "      <td>-3406</td>\n",
       "      <td>3799</td>\n",
       "      <td>-2642</td>\n",
       "      <td>1578</td>\n",
       "      <td>-181</td>\n",
       "      <td>-212</td>\n",
       "      <td>1633</td>\n",
       "      <td>4664</td>\n",
       "      <td>1081</td>\n",
       "      <td>-1172</td>\n",
       "      <td>-166</td>\n",
       "      <td>578</td>\n",
       "      <td>1664</td>\n",
       "      <td>309</td>\n",
       "      <td>-3028</td>\n",
       "    </tr>\n",
       "    <tr>\n",
       "      <th>1</th>\n",
       "      <td>947</td>\n",
       "      <td>543</td>\n",
       "      <td>782</td>\n",
       "      <td>-449</td>\n",
       "      <td>-8</td>\n",
       "      <td>1316</td>\n",
       "      <td>756</td>\n",
       "      <td>-61</td>\n",
       "      <td>1604</td>\n",
       "      <td>1686</td>\n",
       "      <td>264</td>\n",
       "      <td>-382</td>\n",
       "      <td>1259</td>\n",
       "      <td>608</td>\n",
       "      <td>-2292</td>\n",
       "      <td>1008</td>\n",
       "      <td>2687</td>\n",
       "      <td>-1422</td>\n",
       "      <td>-606</td>\n",
       "      <td>2374</td>\n",
       "    </tr>\n",
       "    <tr>\n",
       "      <th>2</th>\n",
       "      <td>759</td>\n",
       "      <td>-314</td>\n",
       "      <td>898</td>\n",
       "      <td>-1743</td>\n",
       "      <td>2003</td>\n",
       "      <td>1117</td>\n",
       "      <td>911</td>\n",
       "      <td>136</td>\n",
       "      <td>-489</td>\n",
       "      <td>-144</td>\n",
       "      <td>982</td>\n",
       "      <td>112</td>\n",
       "      <td>598</td>\n",
       "      <td>474</td>\n",
       "      <td>2026</td>\n",
       "      <td>1431</td>\n",
       "      <td>-336</td>\n",
       "      <td>79</td>\n",
       "      <td>1123</td>\n",
       "      <td>302</td>\n",
       "    </tr>\n",
       "    <tr>\n",
       "      <th>3</th>\n",
       "      <td>531</td>\n",
       "      <td>1374</td>\n",
       "      <td>517</td>\n",
       "      <td>1226</td>\n",
       "      <td>1122</td>\n",
       "      <td>-4</td>\n",
       "      <td>-1227</td>\n",
       "      <td>2277</td>\n",
       "      <td>1083</td>\n",
       "      <td>888</td>\n",
       "      <td>-111</td>\n",
       "      <td>1063</td>\n",
       "      <td>2454</td>\n",
       "      <td>587</td>\n",
       "      <td>-744</td>\n",
       "      <td>1216</td>\n",
       "      <td>916</td>\n",
       "      <td>-476</td>\n",
       "      <td>6</td>\n",
       "      <td>-477</td>\n",
       "    </tr>\n",
       "    <tr>\n",
       "      <th>4</th>\n",
       "      <td>-1443</td>\n",
       "      <td>1065</td>\n",
       "      <td>2071</td>\n",
       "      <td>207</td>\n",
       "      <td>-865</td>\n",
       "      <td>-786</td>\n",
       "      <td>2655</td>\n",
       "      <td>-366</td>\n",
       "      <td>971</td>\n",
       "      <td>-341</td>\n",
       "      <td>221</td>\n",
       "      <td>4195</td>\n",
       "      <td>-117</td>\n",
       "      <td>-2694</td>\n",
       "      <td>14</td>\n",
       "      <td>4097</td>\n",
       "      <td>1356</td>\n",
       "      <td>-944</td>\n",
       "      <td>-602</td>\n",
       "      <td>2348</td>\n",
       "    </tr>\n",
       "  </tbody>\n",
       "</table>\n",
       "</div>"
      ],
      "text/plain": [
       "     A1    A2    A3    A4    A5    A6    A7    A8    A9   A10  A11   A12  \\\n",
       "0   849  2177   598  1689  3114 -3406  3799 -2642  1578  -181 -212  1633   \n",
       "1   947   543   782  -449    -8  1316   756   -61  1604  1686  264  -382   \n",
       "2   759  -314   898 -1743  2003  1117   911   136  -489  -144  982   112   \n",
       "3   531  1374   517  1226  1122    -4 -1227  2277  1083   888 -111  1063   \n",
       "4 -1443  1065  2071   207  -865  -786  2655  -366   971  -341  221  4195   \n",
       "\n",
       "    A13   A14   A15   A16   A17   A18   A19   A20  \n",
       "0  4664  1081 -1172  -166   578  1664   309 -3028  \n",
       "1  1259   608 -2292  1008  2687 -1422  -606  2374  \n",
       "2   598   474  2026  1431  -336    79  1123   302  \n",
       "3  2454   587  -744  1216   916  -476     6  -477  \n",
       "4  -117 -2694    14  4097  1356  -944  -602  2348  "
      ]
     },
     "execution_count": 175,
     "metadata": {},
     "output_type": "execute_result"
    }
   ],
   "source": [
    "print('Number of columns: ' + str(len(data_ring_nocorr.columns)))\n",
    "print('Number of rows: ' + str(len(data_ring_nocorr)))\n",
    "\n",
    "data_ring_nocorr.head()"
   ]
  },
  {
   "cell_type": "code",
   "execution_count": 176,
   "metadata": {},
   "outputs": [
    {
     "name": "stdout",
     "output_type": "stream",
     "text": [
      "Number of columns: 8\n",
      "Number of rows: 1453\n"
     ]
    },
    {
     "data": {
      "text/html": [
       "<div>\n",
       "<style scoped>\n",
       "    .dataframe tbody tr th:only-of-type {\n",
       "        vertical-align: middle;\n",
       "    }\n",
       "\n",
       "    .dataframe tbody tr th {\n",
       "        vertical-align: top;\n",
       "    }\n",
       "\n",
       "    .dataframe thead th {\n",
       "        text-align: right;\n",
       "    }\n",
       "</style>\n",
       "<table border=\"1\" class=\"dataframe\">\n",
       "  <thead>\n",
       "    <tr style=\"text-align: right;\">\n",
       "      <th></th>\n",
       "      <th>Mcg</th>\n",
       "      <th>Gvh</th>\n",
       "      <th>Alm</th>\n",
       "      <th>Mit</th>\n",
       "      <th>Erl</th>\n",
       "      <th>Pox</th>\n",
       "      <th>Vac</th>\n",
       "      <th>Nuc</th>\n",
       "    </tr>\n",
       "  </thead>\n",
       "  <tbody>\n",
       "    <tr>\n",
       "      <th>0</th>\n",
       "      <td>0.58</td>\n",
       "      <td>0.61</td>\n",
       "      <td>0.47</td>\n",
       "      <td>0.13</td>\n",
       "      <td>0.5</td>\n",
       "      <td>0.0</td>\n",
       "      <td>0.48</td>\n",
       "      <td>0.22</td>\n",
       "    </tr>\n",
       "    <tr>\n",
       "      <th>1</th>\n",
       "      <td>0.43</td>\n",
       "      <td>0.67</td>\n",
       "      <td>0.48</td>\n",
       "      <td>0.27</td>\n",
       "      <td>0.5</td>\n",
       "      <td>0.0</td>\n",
       "      <td>0.53</td>\n",
       "      <td>0.22</td>\n",
       "    </tr>\n",
       "    <tr>\n",
       "      <th>2</th>\n",
       "      <td>0.64</td>\n",
       "      <td>0.62</td>\n",
       "      <td>0.49</td>\n",
       "      <td>0.15</td>\n",
       "      <td>0.5</td>\n",
       "      <td>0.0</td>\n",
       "      <td>0.53</td>\n",
       "      <td>0.22</td>\n",
       "    </tr>\n",
       "    <tr>\n",
       "      <th>3</th>\n",
       "      <td>0.58</td>\n",
       "      <td>0.44</td>\n",
       "      <td>0.57</td>\n",
       "      <td>0.13</td>\n",
       "      <td>0.5</td>\n",
       "      <td>0.0</td>\n",
       "      <td>0.54</td>\n",
       "      <td>0.22</td>\n",
       "    </tr>\n",
       "    <tr>\n",
       "      <th>4</th>\n",
       "      <td>0.42</td>\n",
       "      <td>0.44</td>\n",
       "      <td>0.48</td>\n",
       "      <td>0.54</td>\n",
       "      <td>0.5</td>\n",
       "      <td>0.0</td>\n",
       "      <td>0.48</td>\n",
       "      <td>0.22</td>\n",
       "    </tr>\n",
       "  </tbody>\n",
       "</table>\n",
       "</div>"
      ],
      "text/plain": [
       "    Mcg   Gvh   Alm   Mit  Erl  Pox   Vac   Nuc\n",
       "0  0.58  0.61  0.47  0.13  0.5  0.0  0.48  0.22\n",
       "1  0.43  0.67  0.48  0.27  0.5  0.0  0.53  0.22\n",
       "2  0.64  0.62  0.49  0.15  0.5  0.0  0.53  0.22\n",
       "3  0.58  0.44  0.57  0.13  0.5  0.0  0.54  0.22\n",
       "4  0.42  0.44  0.48  0.54  0.5  0.0  0.48  0.22"
      ]
     },
     "execution_count": 176,
     "metadata": {},
     "output_type": "execute_result"
    }
   ],
   "source": [
    "print('Number of columns: ' + str(len(data_yeast1_nocorr.columns)))\n",
    "print('Number of rows: ' + str(len(data_yeast1_nocorr)))\n",
    "\n",
    "data_yeast1_nocorr.head()"
   ]
  },
  {
   "cell_type": "markdown",
   "metadata": {},
   "source": [
    "### Data split"
   ]
  },
  {
   "cell_type": "code",
   "execution_count": 177,
   "metadata": {},
   "outputs": [],
   "source": [
    "X1 = data_elephant_nocorr\n",
    "X2 = data_ring_nocorr\n",
    "X3 = data_yeast1_nocorr\n",
    "Y1 = labels_elephant\n",
    "Y2 = labels_ring\n",
    "Y3 = labels_yeast1"
   ]
  },
  {
   "cell_type": "code",
   "execution_count": 178,
   "metadata": {},
   "outputs": [],
   "source": [
    "X_train1, X_test1, y_train1, y_test1 = train_test_split(X1,Y1,test_size=0.2, random_state=30, stratify=Y1)\n",
    "X_train2, X_test2, y_train2, y_test2 = train_test_split(X2,Y2,test_size=0.2, random_state=30, stratify=Y2)\n",
    "X_train3, X_test3, y_train3, y_test3 = train_test_split(X3,Y3,test_size=0.2, random_state=30, stratify=Y3)"
   ]
  },
  {
   "cell_type": "markdown",
   "metadata": {},
   "source": [
    "### Support Vector Machine"
   ]
  },
  {
   "cell_type": "code",
   "execution_count": 26,
   "metadata": {},
   "outputs": [],
   "source": [
    "steps = [('scaler', StandardScaler()), ('SVM', SVC())]\n",
    "pipeline = Pipeline(steps)"
   ]
  },
  {
   "cell_type": "code",
   "execution_count": 27,
   "metadata": {},
   "outputs": [],
   "source": [
    "parameters = {'SVM__C':[0.001,0.1,10,100,10e5], 'SVM__gamma':[0.1,0.01]}\n",
    "grid = GridSearchCV(pipeline, param_grid=parameters, cv=5)"
   ]
  },
  {
   "cell_type": "code",
   "execution_count": 28,
   "metadata": {},
   "outputs": [
    {
     "ename": "KeyboardInterrupt",
     "evalue": "",
     "output_type": "error",
     "traceback": [
      "\u001b[1;31m---------------------------------------------------------------------------\u001b[0m",
      "\u001b[1;31mKeyboardInterrupt\u001b[0m                         Traceback (most recent call last)",
      "\u001b[1;32m<ipython-input-28-882dca470185>\u001b[0m in \u001b[0;36m<module>\u001b[1;34m\u001b[0m\n\u001b[1;32m----> 1\u001b[1;33m \u001b[0mgrid\u001b[0m\u001b[1;33m.\u001b[0m\u001b[0mfit\u001b[0m\u001b[1;33m(\u001b[0m\u001b[0mX_train1\u001b[0m\u001b[1;33m,\u001b[0m \u001b[0my_train1\u001b[0m\u001b[1;33m)\u001b[0m\u001b[1;33m\u001b[0m\u001b[1;33m\u001b[0m\u001b[0m\n\u001b[0m\u001b[0;32m      2\u001b[0m \u001b[0mprint\u001b[0m\u001b[1;33m(\u001b[0m\u001b[1;34m\"Elephant accuracy = %3.4f\"\u001b[0m \u001b[1;33m%\u001b[0m\u001b[1;33m(\u001b[0m\u001b[0mgrid\u001b[0m\u001b[1;33m.\u001b[0m\u001b[0mscore\u001b[0m\u001b[1;33m(\u001b[0m\u001b[0mX_test1\u001b[0m\u001b[1;33m,\u001b[0m\u001b[0my_test1\u001b[0m\u001b[1;33m)\u001b[0m\u001b[1;33m)\u001b[0m\u001b[1;33m)\u001b[0m\u001b[1;33m\u001b[0m\u001b[1;33m\u001b[0m\u001b[0m\n\u001b[0;32m      3\u001b[0m \u001b[0mfpr\u001b[0m\u001b[1;33m,\u001b[0m \u001b[0mtpr\u001b[0m\u001b[1;33m,\u001b[0m \u001b[0mthresholds\u001b[0m \u001b[1;33m=\u001b[0m \u001b[0mmetrics\u001b[0m\u001b[1;33m.\u001b[0m\u001b[0mroc_curve\u001b[0m\u001b[1;33m(\u001b[0m\u001b[0my_test1\u001b[0m\u001b[1;33m,\u001b[0m \u001b[0mgrid\u001b[0m\u001b[1;33m.\u001b[0m\u001b[0mpredict\u001b[0m\u001b[1;33m(\u001b[0m\u001b[0mX_test1\u001b[0m\u001b[1;33m)\u001b[0m\u001b[1;33m)\u001b[0m\u001b[1;33m\u001b[0m\u001b[1;33m\u001b[0m\u001b[0m\n\u001b[0;32m      4\u001b[0m \u001b[0mprint\u001b[0m\u001b[1;33m(\u001b[0m\u001b[1;34m\"Elephant AUC = %3.4f\"\u001b[0m \u001b[1;33m%\u001b[0m\u001b[1;33m(\u001b[0m\u001b[0mmetrics\u001b[0m\u001b[1;33m.\u001b[0m\u001b[0mauc\u001b[0m\u001b[1;33m(\u001b[0m\u001b[0mfpr\u001b[0m\u001b[1;33m,\u001b[0m \u001b[0mtpr\u001b[0m\u001b[1;33m)\u001b[0m\u001b[1;33m)\u001b[0m\u001b[1;33m)\u001b[0m\u001b[1;33m\u001b[0m\u001b[1;33m\u001b[0m\u001b[0m\n\u001b[0;32m      5\u001b[0m \u001b[0mprint\u001b[0m\u001b[1;33m(\u001b[0m\u001b[0mgrid\u001b[0m\u001b[1;33m.\u001b[0m\u001b[0mbest_params_\u001b[0m\u001b[1;33m)\u001b[0m\u001b[1;33m\u001b[0m\u001b[1;33m\u001b[0m\u001b[0m\n",
      "\u001b[1;32m~\\AppData\\Local\\Continuum\\anaconda3\\lib\\site-packages\\sklearn\\model_selection\\_search.py\u001b[0m in \u001b[0;36mfit\u001b[1;34m(self, X, y, groups, **fit_params)\u001b[0m\n\u001b[0;32m    685\u001b[0m                 \u001b[1;32mreturn\u001b[0m \u001b[0mresults\u001b[0m\u001b[1;33m\u001b[0m\u001b[1;33m\u001b[0m\u001b[0m\n\u001b[0;32m    686\u001b[0m \u001b[1;33m\u001b[0m\u001b[0m\n\u001b[1;32m--> 687\u001b[1;33m             \u001b[0mself\u001b[0m\u001b[1;33m.\u001b[0m\u001b[0m_run_search\u001b[0m\u001b[1;33m(\u001b[0m\u001b[0mevaluate_candidates\u001b[0m\u001b[1;33m)\u001b[0m\u001b[1;33m\u001b[0m\u001b[1;33m\u001b[0m\u001b[0m\n\u001b[0m\u001b[0;32m    688\u001b[0m \u001b[1;33m\u001b[0m\u001b[0m\n\u001b[0;32m    689\u001b[0m         \u001b[1;31m# For multi-metric evaluation, store the best_index_, best_params_ and\u001b[0m\u001b[1;33m\u001b[0m\u001b[1;33m\u001b[0m\u001b[1;33m\u001b[0m\u001b[0m\n",
      "\u001b[1;32m~\\AppData\\Local\\Continuum\\anaconda3\\lib\\site-packages\\sklearn\\model_selection\\_search.py\u001b[0m in \u001b[0;36m_run_search\u001b[1;34m(self, evaluate_candidates)\u001b[0m\n\u001b[0;32m   1146\u001b[0m     \u001b[1;32mdef\u001b[0m \u001b[0m_run_search\u001b[0m\u001b[1;33m(\u001b[0m\u001b[0mself\u001b[0m\u001b[1;33m,\u001b[0m \u001b[0mevaluate_candidates\u001b[0m\u001b[1;33m)\u001b[0m\u001b[1;33m:\u001b[0m\u001b[1;33m\u001b[0m\u001b[1;33m\u001b[0m\u001b[0m\n\u001b[0;32m   1147\u001b[0m         \u001b[1;34m\"\"\"Search all candidates in param_grid\"\"\"\u001b[0m\u001b[1;33m\u001b[0m\u001b[1;33m\u001b[0m\u001b[0m\n\u001b[1;32m-> 1148\u001b[1;33m         \u001b[0mevaluate_candidates\u001b[0m\u001b[1;33m(\u001b[0m\u001b[0mParameterGrid\u001b[0m\u001b[1;33m(\u001b[0m\u001b[0mself\u001b[0m\u001b[1;33m.\u001b[0m\u001b[0mparam_grid\u001b[0m\u001b[1;33m)\u001b[0m\u001b[1;33m)\u001b[0m\u001b[1;33m\u001b[0m\u001b[1;33m\u001b[0m\u001b[0m\n\u001b[0m\u001b[0;32m   1149\u001b[0m \u001b[1;33m\u001b[0m\u001b[0m\n\u001b[0;32m   1150\u001b[0m \u001b[1;33m\u001b[0m\u001b[0m\n",
      "\u001b[1;32m~\\AppData\\Local\\Continuum\\anaconda3\\lib\\site-packages\\sklearn\\model_selection\\_search.py\u001b[0m in \u001b[0;36mevaluate_candidates\u001b[1;34m(candidate_params)\u001b[0m\n\u001b[0;32m    664\u001b[0m                                \u001b[1;32mfor\u001b[0m \u001b[0mparameters\u001b[0m\u001b[1;33m,\u001b[0m \u001b[1;33m(\u001b[0m\u001b[0mtrain\u001b[0m\u001b[1;33m,\u001b[0m \u001b[0mtest\u001b[0m\u001b[1;33m)\u001b[0m\u001b[1;33m\u001b[0m\u001b[1;33m\u001b[0m\u001b[0m\n\u001b[0;32m    665\u001b[0m                                in product(candidate_params,\n\u001b[1;32m--> 666\u001b[1;33m                                           cv.split(X, y, groups)))\n\u001b[0m\u001b[0;32m    667\u001b[0m \u001b[1;33m\u001b[0m\u001b[0m\n\u001b[0;32m    668\u001b[0m                 \u001b[1;32mif\u001b[0m \u001b[0mlen\u001b[0m\u001b[1;33m(\u001b[0m\u001b[0mout\u001b[0m\u001b[1;33m)\u001b[0m \u001b[1;33m<\u001b[0m \u001b[1;36m1\u001b[0m\u001b[1;33m:\u001b[0m\u001b[1;33m\u001b[0m\u001b[1;33m\u001b[0m\u001b[0m\n",
      "\u001b[1;32m~\\AppData\\Local\\Continuum\\anaconda3\\lib\\site-packages\\joblib\\parallel.py\u001b[0m in \u001b[0;36m__call__\u001b[1;34m(self, iterable)\u001b[0m\n\u001b[0;32m    922\u001b[0m                 \u001b[0mself\u001b[0m\u001b[1;33m.\u001b[0m\u001b[0m_iterating\u001b[0m \u001b[1;33m=\u001b[0m \u001b[0mself\u001b[0m\u001b[1;33m.\u001b[0m\u001b[0m_original_iterator\u001b[0m \u001b[1;32mis\u001b[0m \u001b[1;32mnot\u001b[0m \u001b[1;32mNone\u001b[0m\u001b[1;33m\u001b[0m\u001b[1;33m\u001b[0m\u001b[0m\n\u001b[0;32m    923\u001b[0m \u001b[1;33m\u001b[0m\u001b[0m\n\u001b[1;32m--> 924\u001b[1;33m             \u001b[1;32mwhile\u001b[0m \u001b[0mself\u001b[0m\u001b[1;33m.\u001b[0m\u001b[0mdispatch_one_batch\u001b[0m\u001b[1;33m(\u001b[0m\u001b[0miterator\u001b[0m\u001b[1;33m)\u001b[0m\u001b[1;33m:\u001b[0m\u001b[1;33m\u001b[0m\u001b[1;33m\u001b[0m\u001b[0m\n\u001b[0m\u001b[0;32m    925\u001b[0m                 \u001b[1;32mpass\u001b[0m\u001b[1;33m\u001b[0m\u001b[1;33m\u001b[0m\u001b[0m\n\u001b[0;32m    926\u001b[0m \u001b[1;33m\u001b[0m\u001b[0m\n",
      "\u001b[1;32m~\\AppData\\Local\\Continuum\\anaconda3\\lib\\site-packages\\joblib\\parallel.py\u001b[0m in \u001b[0;36mdispatch_one_batch\u001b[1;34m(self, iterator)\u001b[0m\n\u001b[0;32m    757\u001b[0m                 \u001b[1;32mreturn\u001b[0m \u001b[1;32mFalse\u001b[0m\u001b[1;33m\u001b[0m\u001b[1;33m\u001b[0m\u001b[0m\n\u001b[0;32m    758\u001b[0m             \u001b[1;32melse\u001b[0m\u001b[1;33m:\u001b[0m\u001b[1;33m\u001b[0m\u001b[1;33m\u001b[0m\u001b[0m\n\u001b[1;32m--> 759\u001b[1;33m                 \u001b[0mself\u001b[0m\u001b[1;33m.\u001b[0m\u001b[0m_dispatch\u001b[0m\u001b[1;33m(\u001b[0m\u001b[0mtasks\u001b[0m\u001b[1;33m)\u001b[0m\u001b[1;33m\u001b[0m\u001b[1;33m\u001b[0m\u001b[0m\n\u001b[0m\u001b[0;32m    760\u001b[0m                 \u001b[1;32mreturn\u001b[0m \u001b[1;32mTrue\u001b[0m\u001b[1;33m\u001b[0m\u001b[1;33m\u001b[0m\u001b[0m\n\u001b[0;32m    761\u001b[0m \u001b[1;33m\u001b[0m\u001b[0m\n",
      "\u001b[1;32m~\\AppData\\Local\\Continuum\\anaconda3\\lib\\site-packages\\joblib\\parallel.py\u001b[0m in \u001b[0;36m_dispatch\u001b[1;34m(self, batch)\u001b[0m\n\u001b[0;32m    714\u001b[0m         \u001b[1;32mwith\u001b[0m \u001b[0mself\u001b[0m\u001b[1;33m.\u001b[0m\u001b[0m_lock\u001b[0m\u001b[1;33m:\u001b[0m\u001b[1;33m\u001b[0m\u001b[1;33m\u001b[0m\u001b[0m\n\u001b[0;32m    715\u001b[0m             \u001b[0mjob_idx\u001b[0m \u001b[1;33m=\u001b[0m \u001b[0mlen\u001b[0m\u001b[1;33m(\u001b[0m\u001b[0mself\u001b[0m\u001b[1;33m.\u001b[0m\u001b[0m_jobs\u001b[0m\u001b[1;33m)\u001b[0m\u001b[1;33m\u001b[0m\u001b[1;33m\u001b[0m\u001b[0m\n\u001b[1;32m--> 716\u001b[1;33m             \u001b[0mjob\u001b[0m \u001b[1;33m=\u001b[0m \u001b[0mself\u001b[0m\u001b[1;33m.\u001b[0m\u001b[0m_backend\u001b[0m\u001b[1;33m.\u001b[0m\u001b[0mapply_async\u001b[0m\u001b[1;33m(\u001b[0m\u001b[0mbatch\u001b[0m\u001b[1;33m,\u001b[0m \u001b[0mcallback\u001b[0m\u001b[1;33m=\u001b[0m\u001b[0mcb\u001b[0m\u001b[1;33m)\u001b[0m\u001b[1;33m\u001b[0m\u001b[1;33m\u001b[0m\u001b[0m\n\u001b[0m\u001b[0;32m    717\u001b[0m             \u001b[1;31m# A job can complete so quickly than its callback is\u001b[0m\u001b[1;33m\u001b[0m\u001b[1;33m\u001b[0m\u001b[1;33m\u001b[0m\u001b[0m\n\u001b[0;32m    718\u001b[0m             \u001b[1;31m# called before we get here, causing self._jobs to\u001b[0m\u001b[1;33m\u001b[0m\u001b[1;33m\u001b[0m\u001b[1;33m\u001b[0m\u001b[0m\n",
      "\u001b[1;32m~\\AppData\\Local\\Continuum\\anaconda3\\lib\\site-packages\\joblib\\_parallel_backends.py\u001b[0m in \u001b[0;36mapply_async\u001b[1;34m(self, func, callback)\u001b[0m\n\u001b[0;32m    180\u001b[0m     \u001b[1;32mdef\u001b[0m \u001b[0mapply_async\u001b[0m\u001b[1;33m(\u001b[0m\u001b[0mself\u001b[0m\u001b[1;33m,\u001b[0m \u001b[0mfunc\u001b[0m\u001b[1;33m,\u001b[0m \u001b[0mcallback\u001b[0m\u001b[1;33m=\u001b[0m\u001b[1;32mNone\u001b[0m\u001b[1;33m)\u001b[0m\u001b[1;33m:\u001b[0m\u001b[1;33m\u001b[0m\u001b[1;33m\u001b[0m\u001b[0m\n\u001b[0;32m    181\u001b[0m         \u001b[1;34m\"\"\"Schedule a func to be run\"\"\"\u001b[0m\u001b[1;33m\u001b[0m\u001b[1;33m\u001b[0m\u001b[0m\n\u001b[1;32m--> 182\u001b[1;33m         \u001b[0mresult\u001b[0m \u001b[1;33m=\u001b[0m \u001b[0mImmediateResult\u001b[0m\u001b[1;33m(\u001b[0m\u001b[0mfunc\u001b[0m\u001b[1;33m)\u001b[0m\u001b[1;33m\u001b[0m\u001b[1;33m\u001b[0m\u001b[0m\n\u001b[0m\u001b[0;32m    183\u001b[0m         \u001b[1;32mif\u001b[0m \u001b[0mcallback\u001b[0m\u001b[1;33m:\u001b[0m\u001b[1;33m\u001b[0m\u001b[1;33m\u001b[0m\u001b[0m\n\u001b[0;32m    184\u001b[0m             \u001b[0mcallback\u001b[0m\u001b[1;33m(\u001b[0m\u001b[0mresult\u001b[0m\u001b[1;33m)\u001b[0m\u001b[1;33m\u001b[0m\u001b[1;33m\u001b[0m\u001b[0m\n",
      "\u001b[1;32m~\\AppData\\Local\\Continuum\\anaconda3\\lib\\site-packages\\joblib\\_parallel_backends.py\u001b[0m in \u001b[0;36m__init__\u001b[1;34m(self, batch)\u001b[0m\n\u001b[0;32m    547\u001b[0m         \u001b[1;31m# Don't delay the application, to avoid keeping the input\u001b[0m\u001b[1;33m\u001b[0m\u001b[1;33m\u001b[0m\u001b[1;33m\u001b[0m\u001b[0m\n\u001b[0;32m    548\u001b[0m         \u001b[1;31m# arguments in memory\u001b[0m\u001b[1;33m\u001b[0m\u001b[1;33m\u001b[0m\u001b[1;33m\u001b[0m\u001b[0m\n\u001b[1;32m--> 549\u001b[1;33m         \u001b[0mself\u001b[0m\u001b[1;33m.\u001b[0m\u001b[0mresults\u001b[0m \u001b[1;33m=\u001b[0m \u001b[0mbatch\u001b[0m\u001b[1;33m(\u001b[0m\u001b[1;33m)\u001b[0m\u001b[1;33m\u001b[0m\u001b[1;33m\u001b[0m\u001b[0m\n\u001b[0m\u001b[0;32m    550\u001b[0m \u001b[1;33m\u001b[0m\u001b[0m\n\u001b[0;32m    551\u001b[0m     \u001b[1;32mdef\u001b[0m \u001b[0mget\u001b[0m\u001b[1;33m(\u001b[0m\u001b[0mself\u001b[0m\u001b[1;33m)\u001b[0m\u001b[1;33m:\u001b[0m\u001b[1;33m\u001b[0m\u001b[1;33m\u001b[0m\u001b[0m\n",
      "\u001b[1;32m~\\AppData\\Local\\Continuum\\anaconda3\\lib\\site-packages\\joblib\\parallel.py\u001b[0m in \u001b[0;36m__call__\u001b[1;34m(self)\u001b[0m\n\u001b[0;32m    223\u001b[0m         \u001b[1;32mwith\u001b[0m \u001b[0mparallel_backend\u001b[0m\u001b[1;33m(\u001b[0m\u001b[0mself\u001b[0m\u001b[1;33m.\u001b[0m\u001b[0m_backend\u001b[0m\u001b[1;33m,\u001b[0m \u001b[0mn_jobs\u001b[0m\u001b[1;33m=\u001b[0m\u001b[0mself\u001b[0m\u001b[1;33m.\u001b[0m\u001b[0m_n_jobs\u001b[0m\u001b[1;33m)\u001b[0m\u001b[1;33m:\u001b[0m\u001b[1;33m\u001b[0m\u001b[1;33m\u001b[0m\u001b[0m\n\u001b[0;32m    224\u001b[0m             return [func(*args, **kwargs)\n\u001b[1;32m--> 225\u001b[1;33m                     for func, args, kwargs in self.items]\n\u001b[0m\u001b[0;32m    226\u001b[0m \u001b[1;33m\u001b[0m\u001b[0m\n\u001b[0;32m    227\u001b[0m     \u001b[1;32mdef\u001b[0m \u001b[0m__len__\u001b[0m\u001b[1;33m(\u001b[0m\u001b[0mself\u001b[0m\u001b[1;33m)\u001b[0m\u001b[1;33m:\u001b[0m\u001b[1;33m\u001b[0m\u001b[1;33m\u001b[0m\u001b[0m\n",
      "\u001b[1;32m~\\AppData\\Local\\Continuum\\anaconda3\\lib\\site-packages\\joblib\\parallel.py\u001b[0m in \u001b[0;36m<listcomp>\u001b[1;34m(.0)\u001b[0m\n\u001b[0;32m    223\u001b[0m         \u001b[1;32mwith\u001b[0m \u001b[0mparallel_backend\u001b[0m\u001b[1;33m(\u001b[0m\u001b[0mself\u001b[0m\u001b[1;33m.\u001b[0m\u001b[0m_backend\u001b[0m\u001b[1;33m,\u001b[0m \u001b[0mn_jobs\u001b[0m\u001b[1;33m=\u001b[0m\u001b[0mself\u001b[0m\u001b[1;33m.\u001b[0m\u001b[0m_n_jobs\u001b[0m\u001b[1;33m)\u001b[0m\u001b[1;33m:\u001b[0m\u001b[1;33m\u001b[0m\u001b[1;33m\u001b[0m\u001b[0m\n\u001b[0;32m    224\u001b[0m             return [func(*args, **kwargs)\n\u001b[1;32m--> 225\u001b[1;33m                     for func, args, kwargs in self.items]\n\u001b[0m\u001b[0;32m    226\u001b[0m \u001b[1;33m\u001b[0m\u001b[0m\n\u001b[0;32m    227\u001b[0m     \u001b[1;32mdef\u001b[0m \u001b[0m__len__\u001b[0m\u001b[1;33m(\u001b[0m\u001b[0mself\u001b[0m\u001b[1;33m)\u001b[0m\u001b[1;33m:\u001b[0m\u001b[1;33m\u001b[0m\u001b[1;33m\u001b[0m\u001b[0m\n",
      "\u001b[1;32m~\\AppData\\Local\\Continuum\\anaconda3\\lib\\site-packages\\sklearn\\model_selection\\_validation.py\u001b[0m in \u001b[0;36m_fit_and_score\u001b[1;34m(estimator, X, y, scorer, train, test, verbose, parameters, fit_params, return_train_score, return_parameters, return_n_test_samples, return_times, return_estimator, error_score)\u001b[0m\n\u001b[0;32m    512\u001b[0m             \u001b[0mestimator\u001b[0m\u001b[1;33m.\u001b[0m\u001b[0mfit\u001b[0m\u001b[1;33m(\u001b[0m\u001b[0mX_train\u001b[0m\u001b[1;33m,\u001b[0m \u001b[1;33m**\u001b[0m\u001b[0mfit_params\u001b[0m\u001b[1;33m)\u001b[0m\u001b[1;33m\u001b[0m\u001b[1;33m\u001b[0m\u001b[0m\n\u001b[0;32m    513\u001b[0m         \u001b[1;32melse\u001b[0m\u001b[1;33m:\u001b[0m\u001b[1;33m\u001b[0m\u001b[1;33m\u001b[0m\u001b[0m\n\u001b[1;32m--> 514\u001b[1;33m             \u001b[0mestimator\u001b[0m\u001b[1;33m.\u001b[0m\u001b[0mfit\u001b[0m\u001b[1;33m(\u001b[0m\u001b[0mX_train\u001b[0m\u001b[1;33m,\u001b[0m \u001b[0my_train\u001b[0m\u001b[1;33m,\u001b[0m \u001b[1;33m**\u001b[0m\u001b[0mfit_params\u001b[0m\u001b[1;33m)\u001b[0m\u001b[1;33m\u001b[0m\u001b[1;33m\u001b[0m\u001b[0m\n\u001b[0m\u001b[0;32m    515\u001b[0m \u001b[1;33m\u001b[0m\u001b[0m\n\u001b[0;32m    516\u001b[0m     \u001b[1;32mexcept\u001b[0m \u001b[0mException\u001b[0m \u001b[1;32mas\u001b[0m \u001b[0me\u001b[0m\u001b[1;33m:\u001b[0m\u001b[1;33m\u001b[0m\u001b[1;33m\u001b[0m\u001b[0m\n",
      "\u001b[1;32m~\\AppData\\Local\\Continuum\\anaconda3\\lib\\site-packages\\sklearn\\pipeline.py\u001b[0m in \u001b[0;36mfit\u001b[1;34m(self, X, y, **fit_params)\u001b[0m\n\u001b[0;32m    354\u001b[0m                                  self._log_message(len(self.steps) - 1)):\n\u001b[0;32m    355\u001b[0m             \u001b[1;32mif\u001b[0m \u001b[0mself\u001b[0m\u001b[1;33m.\u001b[0m\u001b[0m_final_estimator\u001b[0m \u001b[1;33m!=\u001b[0m \u001b[1;34m'passthrough'\u001b[0m\u001b[1;33m:\u001b[0m\u001b[1;33m\u001b[0m\u001b[1;33m\u001b[0m\u001b[0m\n\u001b[1;32m--> 356\u001b[1;33m                 \u001b[0mself\u001b[0m\u001b[1;33m.\u001b[0m\u001b[0m_final_estimator\u001b[0m\u001b[1;33m.\u001b[0m\u001b[0mfit\u001b[0m\u001b[1;33m(\u001b[0m\u001b[0mXt\u001b[0m\u001b[1;33m,\u001b[0m \u001b[0my\u001b[0m\u001b[1;33m,\u001b[0m \u001b[1;33m**\u001b[0m\u001b[0mfit_params\u001b[0m\u001b[1;33m)\u001b[0m\u001b[1;33m\u001b[0m\u001b[1;33m\u001b[0m\u001b[0m\n\u001b[0m\u001b[0;32m    357\u001b[0m         \u001b[1;32mreturn\u001b[0m \u001b[0mself\u001b[0m\u001b[1;33m\u001b[0m\u001b[1;33m\u001b[0m\u001b[0m\n\u001b[0;32m    358\u001b[0m \u001b[1;33m\u001b[0m\u001b[0m\n",
      "\u001b[1;32m~\\AppData\\Local\\Continuum\\anaconda3\\lib\\site-packages\\sklearn\\svm\\base.py\u001b[0m in \u001b[0;36mfit\u001b[1;34m(self, X, y, sample_weight)\u001b[0m\n\u001b[0;32m    207\u001b[0m \u001b[1;33m\u001b[0m\u001b[0m\n\u001b[0;32m    208\u001b[0m         \u001b[0mseed\u001b[0m \u001b[1;33m=\u001b[0m \u001b[0mrnd\u001b[0m\u001b[1;33m.\u001b[0m\u001b[0mrandint\u001b[0m\u001b[1;33m(\u001b[0m\u001b[0mnp\u001b[0m\u001b[1;33m.\u001b[0m\u001b[0miinfo\u001b[0m\u001b[1;33m(\u001b[0m\u001b[1;34m'i'\u001b[0m\u001b[1;33m)\u001b[0m\u001b[1;33m.\u001b[0m\u001b[0mmax\u001b[0m\u001b[1;33m)\u001b[0m\u001b[1;33m\u001b[0m\u001b[1;33m\u001b[0m\u001b[0m\n\u001b[1;32m--> 209\u001b[1;33m         \u001b[0mfit\u001b[0m\u001b[1;33m(\u001b[0m\u001b[0mX\u001b[0m\u001b[1;33m,\u001b[0m \u001b[0my\u001b[0m\u001b[1;33m,\u001b[0m \u001b[0msample_weight\u001b[0m\u001b[1;33m,\u001b[0m \u001b[0msolver_type\u001b[0m\u001b[1;33m,\u001b[0m \u001b[0mkernel\u001b[0m\u001b[1;33m,\u001b[0m \u001b[0mrandom_seed\u001b[0m\u001b[1;33m=\u001b[0m\u001b[0mseed\u001b[0m\u001b[1;33m)\u001b[0m\u001b[1;33m\u001b[0m\u001b[1;33m\u001b[0m\u001b[0m\n\u001b[0m\u001b[0;32m    210\u001b[0m         \u001b[1;31m# see comment on the other call to np.iinfo in this file\u001b[0m\u001b[1;33m\u001b[0m\u001b[1;33m\u001b[0m\u001b[1;33m\u001b[0m\u001b[0m\n\u001b[0;32m    211\u001b[0m \u001b[1;33m\u001b[0m\u001b[0m\n",
      "\u001b[1;32m~\\AppData\\Local\\Continuum\\anaconda3\\lib\\site-packages\\sklearn\\svm\\base.py\u001b[0m in \u001b[0;36m_dense_fit\u001b[1;34m(self, X, y, sample_weight, solver_type, kernel, random_seed)\u001b[0m\n\u001b[0;32m    266\u001b[0m                 \u001b[0mcache_size\u001b[0m\u001b[1;33m=\u001b[0m\u001b[0mself\u001b[0m\u001b[1;33m.\u001b[0m\u001b[0mcache_size\u001b[0m\u001b[1;33m,\u001b[0m \u001b[0mcoef0\u001b[0m\u001b[1;33m=\u001b[0m\u001b[0mself\u001b[0m\u001b[1;33m.\u001b[0m\u001b[0mcoef0\u001b[0m\u001b[1;33m,\u001b[0m\u001b[1;33m\u001b[0m\u001b[1;33m\u001b[0m\u001b[0m\n\u001b[0;32m    267\u001b[0m                 \u001b[0mgamma\u001b[0m\u001b[1;33m=\u001b[0m\u001b[0mself\u001b[0m\u001b[1;33m.\u001b[0m\u001b[0m_gamma\u001b[0m\u001b[1;33m,\u001b[0m \u001b[0mepsilon\u001b[0m\u001b[1;33m=\u001b[0m\u001b[0mself\u001b[0m\u001b[1;33m.\u001b[0m\u001b[0mepsilon\u001b[0m\u001b[1;33m,\u001b[0m\u001b[1;33m\u001b[0m\u001b[1;33m\u001b[0m\u001b[0m\n\u001b[1;32m--> 268\u001b[1;33m                 max_iter=self.max_iter, random_seed=random_seed)\n\u001b[0m\u001b[0;32m    269\u001b[0m \u001b[1;33m\u001b[0m\u001b[0m\n\u001b[0;32m    270\u001b[0m         \u001b[0mself\u001b[0m\u001b[1;33m.\u001b[0m\u001b[0m_warn_from_fit_status\u001b[0m\u001b[1;33m(\u001b[0m\u001b[1;33m)\u001b[0m\u001b[1;33m\u001b[0m\u001b[1;33m\u001b[0m\u001b[0m\n",
      "\u001b[1;31mKeyboardInterrupt\u001b[0m: "
     ]
    }
   ],
   "source": [
    "grid.fit(X_train1, y_train1)\n",
    "print(\"Elephant accuracy = %3.4f\" %(grid.score(X_test1,y_test1)))\n",
    "fpr, tpr, thresholds = metrics.roc_curve(y_test1, grid.predict(X_test1))\n",
    "print(\"Elephant AUC = %3.4f\" %(metrics.auc(fpr, tpr)))\n",
    "print(grid.best_params_)"
   ]
  },
  {
   "cell_type": "code",
   "execution_count": 49,
   "metadata": {},
   "outputs": [
    {
     "name": "stdout",
     "output_type": "stream",
     "text": [
      "Ring accuracy = 0.9811\n",
      "Ring AUC = 0.9811\n",
      "{'SVM__C': 0.1, 'SVM__gamma': 0.1}\n"
     ]
    }
   ],
   "source": [
    "grid.fit(X_train2, y_train2)\n",
    "print(\"Ring accuracy = %3.4f\" %(grid.score(X_test2,y_test2)))\n",
    "fpr, tpr, thresholds = metrics.roc_curve(y_test2, grid.predict(X_test2))\n",
    "print(\"Ring AUC = %3.4f\" %(metrics.auc(fpr, tpr)))\n",
    "print(grid.best_params_)"
   ]
  },
  {
   "cell_type": "code",
   "execution_count": 50,
   "metadata": {},
   "outputs": [
    {
     "name": "stdout",
     "output_type": "stream",
     "text": [
      "Yeast accuracy = 0.8179\n",
      "Yeast AUC = 0.7055\n",
      "{'SVM__C': 100, 'SVM__gamma': 0.01}\n"
     ]
    }
   ],
   "source": [
    "grid.fit(X_train3, y_train3)\n",
    "print(\"Yeast accuracy = %3.4f\" %(grid.score(X_test3,y_test3)))\n",
    "fpr, tpr, thresholds = metrics.roc_curve(y_test3, grid.predict(X_test3))\n",
    "print(\"Yeast AUC = %3.4f\" %(metrics.auc(fpr, tpr)))\n",
    "print(grid.best_params_)"
   ]
  },
  {
   "cell_type": "markdown",
   "metadata": {},
   "source": [
    "## Random forest"
   ]
  },
  {
   "cell_type": "markdown",
   "metadata": {},
   "source": [
    "##### Grid Search "
   ]
  },
  {
   "cell_type": "code",
   "execution_count": 179,
   "metadata": {},
   "outputs": [],
   "source": [
    "steps = [('scaler', StandardScaler()), ('clf', RandomForestClassifier())]\n",
    "pipeline = Pipeline(steps)"
   ]
  },
  {
   "cell_type": "code",
   "execution_count": 180,
   "metadata": {},
   "outputs": [],
   "source": [
    "parameters = {'clf__n_estimators':[100, 300, 500, 800, 1200],\n",
    "'clf__max_depth':[5, 8, 15, 25, 30],\n",
    "'clf__min_samples_split':[2, 5, 10, 15, 100],\n",
    "'clf__min_samples_leaf':[1, 2, 5, 10] \n",
    "}"
   ]
  },
  {
   "cell_type": "code",
   "execution_count": 181,
   "metadata": {},
   "outputs": [],
   "source": [
    "grid = GridSearchCV(pipeline, param_grid=parameters, cv=5)"
   ]
  },
  {
   "cell_type": "markdown",
   "metadata": {},
   "source": [
    "#### ELEPHANTS"
   ]
  },
  {
   "cell_type": "markdown",
   "metadata": {},
   "source": [
    "##### Recursive Feature Elimination (RFE)"
   ]
  },
  {
   "cell_type": "code",
   "execution_count": null,
   "metadata": {},
   "outputs": [],
   "source": [
    "rfe = RFE(grid, 4)\n",
    "#start = time.process_time()\n",
    "RFE_X_Train = rfe.fit_transform(X_train1,y_train1)\n",
    "RFE_X_Test = rfe.transform(X_test1)\n",
    "\n",
    "rfe = rfe.fit(RFE_X_Train,y_train1)\n",
    "\n",
    "#print(time.process_time() - start)\n",
    "\n",
    "print(\"Overall Accuracy using RFE: \", rfe.score(RFE_X_Test,y_test1))"
   ]
  },
  {
   "cell_type": "code",
   "execution_count": null,
   "metadata": {},
   "outputs": [],
   "source": [
    "fpr, tpr, thresholds = metrics.roc_curve(y_test1, grid.predict(RFE_X_Test))\n",
    "print(\"Elephant AUC = %3.3f\" %(metrics.auc(fpr, tpr)))\n",
    "print(grid.best_params_)"
   ]
  },
  {
   "cell_type": "markdown",
   "metadata": {},
   "source": [
    "##### Normal"
   ]
  },
  {
   "cell_type": "code",
   "execution_count": 39,
   "metadata": {},
   "outputs": [
    {
     "ename": "KeyboardInterrupt",
     "evalue": "",
     "output_type": "error",
     "traceback": [
      "\u001b[1;31m---------------------------------------------------------------------------\u001b[0m",
      "\u001b[1;31mKeyboardInterrupt\u001b[0m                         Traceback (most recent call last)",
      "\u001b[1;32m<ipython-input-39-c816e421d6cc>\u001b[0m in \u001b[0;36m<module>\u001b[1;34m\u001b[0m\n\u001b[1;32m----> 1\u001b[1;33m \u001b[0mgrid\u001b[0m\u001b[1;33m.\u001b[0m\u001b[0mfit\u001b[0m\u001b[1;33m(\u001b[0m\u001b[0mX_train1\u001b[0m\u001b[1;33m,\u001b[0m \u001b[0my_train1\u001b[0m\u001b[1;33m)\u001b[0m\u001b[1;33m\u001b[0m\u001b[1;33m\u001b[0m\u001b[0m\n\u001b[0m\u001b[0;32m      2\u001b[0m \u001b[0mprint\u001b[0m\u001b[1;33m(\u001b[0m\u001b[1;34m\"Elephant accuracy = %3.3f\"\u001b[0m \u001b[1;33m%\u001b[0m\u001b[1;33m(\u001b[0m\u001b[0mgrid\u001b[0m\u001b[1;33m.\u001b[0m\u001b[0mscore\u001b[0m\u001b[1;33m(\u001b[0m\u001b[0mX_test1\u001b[0m\u001b[1;33m,\u001b[0m\u001b[0my_test1\u001b[0m\u001b[1;33m)\u001b[0m\u001b[1;33m)\u001b[0m\u001b[1;33m)\u001b[0m\u001b[1;33m\u001b[0m\u001b[1;33m\u001b[0m\u001b[0m\n\u001b[0;32m      3\u001b[0m \u001b[0mfpr\u001b[0m\u001b[1;33m,\u001b[0m \u001b[0mtpr\u001b[0m\u001b[1;33m,\u001b[0m \u001b[0mthresholds\u001b[0m \u001b[1;33m=\u001b[0m \u001b[0mmetrics\u001b[0m\u001b[1;33m.\u001b[0m\u001b[0mroc_curve\u001b[0m\u001b[1;33m(\u001b[0m\u001b[0my_test1\u001b[0m\u001b[1;33m,\u001b[0m \u001b[0mgrid\u001b[0m\u001b[1;33m.\u001b[0m\u001b[0mpredict\u001b[0m\u001b[1;33m(\u001b[0m\u001b[0mX_test1\u001b[0m\u001b[1;33m)\u001b[0m\u001b[1;33m)\u001b[0m\u001b[1;33m\u001b[0m\u001b[1;33m\u001b[0m\u001b[0m\n\u001b[0;32m      4\u001b[0m \u001b[0mprint\u001b[0m\u001b[1;33m(\u001b[0m\u001b[1;34m\"Elephant AUC = %3.3f\"\u001b[0m \u001b[1;33m%\u001b[0m\u001b[1;33m(\u001b[0m\u001b[0mmetrics\u001b[0m\u001b[1;33m.\u001b[0m\u001b[0mauc\u001b[0m\u001b[1;33m(\u001b[0m\u001b[0mfpr\u001b[0m\u001b[1;33m,\u001b[0m \u001b[0mtpr\u001b[0m\u001b[1;33m)\u001b[0m\u001b[1;33m)\u001b[0m\u001b[1;33m)\u001b[0m\u001b[1;33m\u001b[0m\u001b[1;33m\u001b[0m\u001b[0m\n\u001b[0;32m      5\u001b[0m \u001b[0mprint\u001b[0m\u001b[1;33m(\u001b[0m\u001b[0mgrid\u001b[0m\u001b[1;33m.\u001b[0m\u001b[0mbest_params_\u001b[0m\u001b[1;33m)\u001b[0m\u001b[1;33m\u001b[0m\u001b[1;33m\u001b[0m\u001b[0m\n",
      "\u001b[1;32m~\\AppData\\Local\\Continuum\\anaconda3\\lib\\site-packages\\sklearn\\model_selection\\_search.py\u001b[0m in \u001b[0;36mfit\u001b[1;34m(self, X, y, groups, **fit_params)\u001b[0m\n\u001b[0;32m    685\u001b[0m                 \u001b[1;32mreturn\u001b[0m \u001b[0mresults\u001b[0m\u001b[1;33m\u001b[0m\u001b[1;33m\u001b[0m\u001b[0m\n\u001b[0;32m    686\u001b[0m \u001b[1;33m\u001b[0m\u001b[0m\n\u001b[1;32m--> 687\u001b[1;33m             \u001b[0mself\u001b[0m\u001b[1;33m.\u001b[0m\u001b[0m_run_search\u001b[0m\u001b[1;33m(\u001b[0m\u001b[0mevaluate_candidates\u001b[0m\u001b[1;33m)\u001b[0m\u001b[1;33m\u001b[0m\u001b[1;33m\u001b[0m\u001b[0m\n\u001b[0m\u001b[0;32m    688\u001b[0m \u001b[1;33m\u001b[0m\u001b[0m\n\u001b[0;32m    689\u001b[0m         \u001b[1;31m# For multi-metric evaluation, store the best_index_, best_params_ and\u001b[0m\u001b[1;33m\u001b[0m\u001b[1;33m\u001b[0m\u001b[1;33m\u001b[0m\u001b[0m\n",
      "\u001b[1;32m~\\AppData\\Local\\Continuum\\anaconda3\\lib\\site-packages\\sklearn\\model_selection\\_search.py\u001b[0m in \u001b[0;36m_run_search\u001b[1;34m(self, evaluate_candidates)\u001b[0m\n\u001b[0;32m   1146\u001b[0m     \u001b[1;32mdef\u001b[0m \u001b[0m_run_search\u001b[0m\u001b[1;33m(\u001b[0m\u001b[0mself\u001b[0m\u001b[1;33m,\u001b[0m \u001b[0mevaluate_candidates\u001b[0m\u001b[1;33m)\u001b[0m\u001b[1;33m:\u001b[0m\u001b[1;33m\u001b[0m\u001b[1;33m\u001b[0m\u001b[0m\n\u001b[0;32m   1147\u001b[0m         \u001b[1;34m\"\"\"Search all candidates in param_grid\"\"\"\u001b[0m\u001b[1;33m\u001b[0m\u001b[1;33m\u001b[0m\u001b[0m\n\u001b[1;32m-> 1148\u001b[1;33m         \u001b[0mevaluate_candidates\u001b[0m\u001b[1;33m(\u001b[0m\u001b[0mParameterGrid\u001b[0m\u001b[1;33m(\u001b[0m\u001b[0mself\u001b[0m\u001b[1;33m.\u001b[0m\u001b[0mparam_grid\u001b[0m\u001b[1;33m)\u001b[0m\u001b[1;33m)\u001b[0m\u001b[1;33m\u001b[0m\u001b[1;33m\u001b[0m\u001b[0m\n\u001b[0m\u001b[0;32m   1149\u001b[0m \u001b[1;33m\u001b[0m\u001b[0m\n\u001b[0;32m   1150\u001b[0m \u001b[1;33m\u001b[0m\u001b[0m\n",
      "\u001b[1;32m~\\AppData\\Local\\Continuum\\anaconda3\\lib\\site-packages\\sklearn\\model_selection\\_search.py\u001b[0m in \u001b[0;36mevaluate_candidates\u001b[1;34m(candidate_params)\u001b[0m\n\u001b[0;32m    664\u001b[0m                                \u001b[1;32mfor\u001b[0m \u001b[0mparameters\u001b[0m\u001b[1;33m,\u001b[0m \u001b[1;33m(\u001b[0m\u001b[0mtrain\u001b[0m\u001b[1;33m,\u001b[0m \u001b[0mtest\u001b[0m\u001b[1;33m)\u001b[0m\u001b[1;33m\u001b[0m\u001b[1;33m\u001b[0m\u001b[0m\n\u001b[0;32m    665\u001b[0m                                in product(candidate_params,\n\u001b[1;32m--> 666\u001b[1;33m                                           cv.split(X, y, groups)))\n\u001b[0m\u001b[0;32m    667\u001b[0m \u001b[1;33m\u001b[0m\u001b[0m\n\u001b[0;32m    668\u001b[0m                 \u001b[1;32mif\u001b[0m \u001b[0mlen\u001b[0m\u001b[1;33m(\u001b[0m\u001b[0mout\u001b[0m\u001b[1;33m)\u001b[0m \u001b[1;33m<\u001b[0m \u001b[1;36m1\u001b[0m\u001b[1;33m:\u001b[0m\u001b[1;33m\u001b[0m\u001b[1;33m\u001b[0m\u001b[0m\n",
      "\u001b[1;32m~\\AppData\\Local\\Continuum\\anaconda3\\lib\\site-packages\\joblib\\parallel.py\u001b[0m in \u001b[0;36m__call__\u001b[1;34m(self, iterable)\u001b[0m\n\u001b[0;32m    922\u001b[0m                 \u001b[0mself\u001b[0m\u001b[1;33m.\u001b[0m\u001b[0m_iterating\u001b[0m \u001b[1;33m=\u001b[0m \u001b[0mself\u001b[0m\u001b[1;33m.\u001b[0m\u001b[0m_original_iterator\u001b[0m \u001b[1;32mis\u001b[0m \u001b[1;32mnot\u001b[0m \u001b[1;32mNone\u001b[0m\u001b[1;33m\u001b[0m\u001b[1;33m\u001b[0m\u001b[0m\n\u001b[0;32m    923\u001b[0m \u001b[1;33m\u001b[0m\u001b[0m\n\u001b[1;32m--> 924\u001b[1;33m             \u001b[1;32mwhile\u001b[0m \u001b[0mself\u001b[0m\u001b[1;33m.\u001b[0m\u001b[0mdispatch_one_batch\u001b[0m\u001b[1;33m(\u001b[0m\u001b[0miterator\u001b[0m\u001b[1;33m)\u001b[0m\u001b[1;33m:\u001b[0m\u001b[1;33m\u001b[0m\u001b[1;33m\u001b[0m\u001b[0m\n\u001b[0m\u001b[0;32m    925\u001b[0m                 \u001b[1;32mpass\u001b[0m\u001b[1;33m\u001b[0m\u001b[1;33m\u001b[0m\u001b[0m\n\u001b[0;32m    926\u001b[0m \u001b[1;33m\u001b[0m\u001b[0m\n",
      "\u001b[1;32m~\\AppData\\Local\\Continuum\\anaconda3\\lib\\site-packages\\joblib\\parallel.py\u001b[0m in \u001b[0;36mdispatch_one_batch\u001b[1;34m(self, iterator)\u001b[0m\n\u001b[0;32m    757\u001b[0m                 \u001b[1;32mreturn\u001b[0m \u001b[1;32mFalse\u001b[0m\u001b[1;33m\u001b[0m\u001b[1;33m\u001b[0m\u001b[0m\n\u001b[0;32m    758\u001b[0m             \u001b[1;32melse\u001b[0m\u001b[1;33m:\u001b[0m\u001b[1;33m\u001b[0m\u001b[1;33m\u001b[0m\u001b[0m\n\u001b[1;32m--> 759\u001b[1;33m                 \u001b[0mself\u001b[0m\u001b[1;33m.\u001b[0m\u001b[0m_dispatch\u001b[0m\u001b[1;33m(\u001b[0m\u001b[0mtasks\u001b[0m\u001b[1;33m)\u001b[0m\u001b[1;33m\u001b[0m\u001b[1;33m\u001b[0m\u001b[0m\n\u001b[0m\u001b[0;32m    760\u001b[0m                 \u001b[1;32mreturn\u001b[0m \u001b[1;32mTrue\u001b[0m\u001b[1;33m\u001b[0m\u001b[1;33m\u001b[0m\u001b[0m\n\u001b[0;32m    761\u001b[0m \u001b[1;33m\u001b[0m\u001b[0m\n",
      "\u001b[1;32m~\\AppData\\Local\\Continuum\\anaconda3\\lib\\site-packages\\joblib\\parallel.py\u001b[0m in \u001b[0;36m_dispatch\u001b[1;34m(self, batch)\u001b[0m\n\u001b[0;32m    714\u001b[0m         \u001b[1;32mwith\u001b[0m \u001b[0mself\u001b[0m\u001b[1;33m.\u001b[0m\u001b[0m_lock\u001b[0m\u001b[1;33m:\u001b[0m\u001b[1;33m\u001b[0m\u001b[1;33m\u001b[0m\u001b[0m\n\u001b[0;32m    715\u001b[0m             \u001b[0mjob_idx\u001b[0m \u001b[1;33m=\u001b[0m \u001b[0mlen\u001b[0m\u001b[1;33m(\u001b[0m\u001b[0mself\u001b[0m\u001b[1;33m.\u001b[0m\u001b[0m_jobs\u001b[0m\u001b[1;33m)\u001b[0m\u001b[1;33m\u001b[0m\u001b[1;33m\u001b[0m\u001b[0m\n\u001b[1;32m--> 716\u001b[1;33m             \u001b[0mjob\u001b[0m \u001b[1;33m=\u001b[0m \u001b[0mself\u001b[0m\u001b[1;33m.\u001b[0m\u001b[0m_backend\u001b[0m\u001b[1;33m.\u001b[0m\u001b[0mapply_async\u001b[0m\u001b[1;33m(\u001b[0m\u001b[0mbatch\u001b[0m\u001b[1;33m,\u001b[0m \u001b[0mcallback\u001b[0m\u001b[1;33m=\u001b[0m\u001b[0mcb\u001b[0m\u001b[1;33m)\u001b[0m\u001b[1;33m\u001b[0m\u001b[1;33m\u001b[0m\u001b[0m\n\u001b[0m\u001b[0;32m    717\u001b[0m             \u001b[1;31m# A job can complete so quickly than its callback is\u001b[0m\u001b[1;33m\u001b[0m\u001b[1;33m\u001b[0m\u001b[1;33m\u001b[0m\u001b[0m\n\u001b[0;32m    718\u001b[0m             \u001b[1;31m# called before we get here, causing self._jobs to\u001b[0m\u001b[1;33m\u001b[0m\u001b[1;33m\u001b[0m\u001b[1;33m\u001b[0m\u001b[0m\n",
      "\u001b[1;32m~\\AppData\\Local\\Continuum\\anaconda3\\lib\\site-packages\\joblib\\_parallel_backends.py\u001b[0m in \u001b[0;36mapply_async\u001b[1;34m(self, func, callback)\u001b[0m\n\u001b[0;32m    180\u001b[0m     \u001b[1;32mdef\u001b[0m \u001b[0mapply_async\u001b[0m\u001b[1;33m(\u001b[0m\u001b[0mself\u001b[0m\u001b[1;33m,\u001b[0m \u001b[0mfunc\u001b[0m\u001b[1;33m,\u001b[0m \u001b[0mcallback\u001b[0m\u001b[1;33m=\u001b[0m\u001b[1;32mNone\u001b[0m\u001b[1;33m)\u001b[0m\u001b[1;33m:\u001b[0m\u001b[1;33m\u001b[0m\u001b[1;33m\u001b[0m\u001b[0m\n\u001b[0;32m    181\u001b[0m         \u001b[1;34m\"\"\"Schedule a func to be run\"\"\"\u001b[0m\u001b[1;33m\u001b[0m\u001b[1;33m\u001b[0m\u001b[0m\n\u001b[1;32m--> 182\u001b[1;33m         \u001b[0mresult\u001b[0m \u001b[1;33m=\u001b[0m \u001b[0mImmediateResult\u001b[0m\u001b[1;33m(\u001b[0m\u001b[0mfunc\u001b[0m\u001b[1;33m)\u001b[0m\u001b[1;33m\u001b[0m\u001b[1;33m\u001b[0m\u001b[0m\n\u001b[0m\u001b[0;32m    183\u001b[0m         \u001b[1;32mif\u001b[0m \u001b[0mcallback\u001b[0m\u001b[1;33m:\u001b[0m\u001b[1;33m\u001b[0m\u001b[1;33m\u001b[0m\u001b[0m\n\u001b[0;32m    184\u001b[0m             \u001b[0mcallback\u001b[0m\u001b[1;33m(\u001b[0m\u001b[0mresult\u001b[0m\u001b[1;33m)\u001b[0m\u001b[1;33m\u001b[0m\u001b[1;33m\u001b[0m\u001b[0m\n",
      "\u001b[1;32m~\\AppData\\Local\\Continuum\\anaconda3\\lib\\site-packages\\joblib\\_parallel_backends.py\u001b[0m in \u001b[0;36m__init__\u001b[1;34m(self, batch)\u001b[0m\n\u001b[0;32m    547\u001b[0m         \u001b[1;31m# Don't delay the application, to avoid keeping the input\u001b[0m\u001b[1;33m\u001b[0m\u001b[1;33m\u001b[0m\u001b[1;33m\u001b[0m\u001b[0m\n\u001b[0;32m    548\u001b[0m         \u001b[1;31m# arguments in memory\u001b[0m\u001b[1;33m\u001b[0m\u001b[1;33m\u001b[0m\u001b[1;33m\u001b[0m\u001b[0m\n\u001b[1;32m--> 549\u001b[1;33m         \u001b[0mself\u001b[0m\u001b[1;33m.\u001b[0m\u001b[0mresults\u001b[0m \u001b[1;33m=\u001b[0m \u001b[0mbatch\u001b[0m\u001b[1;33m(\u001b[0m\u001b[1;33m)\u001b[0m\u001b[1;33m\u001b[0m\u001b[1;33m\u001b[0m\u001b[0m\n\u001b[0m\u001b[0;32m    550\u001b[0m \u001b[1;33m\u001b[0m\u001b[0m\n\u001b[0;32m    551\u001b[0m     \u001b[1;32mdef\u001b[0m \u001b[0mget\u001b[0m\u001b[1;33m(\u001b[0m\u001b[0mself\u001b[0m\u001b[1;33m)\u001b[0m\u001b[1;33m:\u001b[0m\u001b[1;33m\u001b[0m\u001b[1;33m\u001b[0m\u001b[0m\n",
      "\u001b[1;32m~\\AppData\\Local\\Continuum\\anaconda3\\lib\\site-packages\\joblib\\parallel.py\u001b[0m in \u001b[0;36m__call__\u001b[1;34m(self)\u001b[0m\n\u001b[0;32m    223\u001b[0m         \u001b[1;32mwith\u001b[0m \u001b[0mparallel_backend\u001b[0m\u001b[1;33m(\u001b[0m\u001b[0mself\u001b[0m\u001b[1;33m.\u001b[0m\u001b[0m_backend\u001b[0m\u001b[1;33m,\u001b[0m \u001b[0mn_jobs\u001b[0m\u001b[1;33m=\u001b[0m\u001b[0mself\u001b[0m\u001b[1;33m.\u001b[0m\u001b[0m_n_jobs\u001b[0m\u001b[1;33m)\u001b[0m\u001b[1;33m:\u001b[0m\u001b[1;33m\u001b[0m\u001b[1;33m\u001b[0m\u001b[0m\n\u001b[0;32m    224\u001b[0m             return [func(*args, **kwargs)\n\u001b[1;32m--> 225\u001b[1;33m                     for func, args, kwargs in self.items]\n\u001b[0m\u001b[0;32m    226\u001b[0m \u001b[1;33m\u001b[0m\u001b[0m\n\u001b[0;32m    227\u001b[0m     \u001b[1;32mdef\u001b[0m \u001b[0m__len__\u001b[0m\u001b[1;33m(\u001b[0m\u001b[0mself\u001b[0m\u001b[1;33m)\u001b[0m\u001b[1;33m:\u001b[0m\u001b[1;33m\u001b[0m\u001b[1;33m\u001b[0m\u001b[0m\n",
      "\u001b[1;32m~\\AppData\\Local\\Continuum\\anaconda3\\lib\\site-packages\\joblib\\parallel.py\u001b[0m in \u001b[0;36m<listcomp>\u001b[1;34m(.0)\u001b[0m\n\u001b[0;32m    223\u001b[0m         \u001b[1;32mwith\u001b[0m \u001b[0mparallel_backend\u001b[0m\u001b[1;33m(\u001b[0m\u001b[0mself\u001b[0m\u001b[1;33m.\u001b[0m\u001b[0m_backend\u001b[0m\u001b[1;33m,\u001b[0m \u001b[0mn_jobs\u001b[0m\u001b[1;33m=\u001b[0m\u001b[0mself\u001b[0m\u001b[1;33m.\u001b[0m\u001b[0m_n_jobs\u001b[0m\u001b[1;33m)\u001b[0m\u001b[1;33m:\u001b[0m\u001b[1;33m\u001b[0m\u001b[1;33m\u001b[0m\u001b[0m\n\u001b[0;32m    224\u001b[0m             return [func(*args, **kwargs)\n\u001b[1;32m--> 225\u001b[1;33m                     for func, args, kwargs in self.items]\n\u001b[0m\u001b[0;32m    226\u001b[0m \u001b[1;33m\u001b[0m\u001b[0m\n\u001b[0;32m    227\u001b[0m     \u001b[1;32mdef\u001b[0m \u001b[0m__len__\u001b[0m\u001b[1;33m(\u001b[0m\u001b[0mself\u001b[0m\u001b[1;33m)\u001b[0m\u001b[1;33m:\u001b[0m\u001b[1;33m\u001b[0m\u001b[1;33m\u001b[0m\u001b[0m\n",
      "\u001b[1;32m~\\AppData\\Local\\Continuum\\anaconda3\\lib\\site-packages\\sklearn\\model_selection\\_validation.py\u001b[0m in \u001b[0;36m_fit_and_score\u001b[1;34m(estimator, X, y, scorer, train, test, verbose, parameters, fit_params, return_train_score, return_parameters, return_n_test_samples, return_times, return_estimator, error_score)\u001b[0m\n\u001b[0;32m    512\u001b[0m             \u001b[0mestimator\u001b[0m\u001b[1;33m.\u001b[0m\u001b[0mfit\u001b[0m\u001b[1;33m(\u001b[0m\u001b[0mX_train\u001b[0m\u001b[1;33m,\u001b[0m \u001b[1;33m**\u001b[0m\u001b[0mfit_params\u001b[0m\u001b[1;33m)\u001b[0m\u001b[1;33m\u001b[0m\u001b[1;33m\u001b[0m\u001b[0m\n\u001b[0;32m    513\u001b[0m         \u001b[1;32melse\u001b[0m\u001b[1;33m:\u001b[0m\u001b[1;33m\u001b[0m\u001b[1;33m\u001b[0m\u001b[0m\n\u001b[1;32m--> 514\u001b[1;33m             \u001b[0mestimator\u001b[0m\u001b[1;33m.\u001b[0m\u001b[0mfit\u001b[0m\u001b[1;33m(\u001b[0m\u001b[0mX_train\u001b[0m\u001b[1;33m,\u001b[0m \u001b[0my_train\u001b[0m\u001b[1;33m,\u001b[0m \u001b[1;33m**\u001b[0m\u001b[0mfit_params\u001b[0m\u001b[1;33m)\u001b[0m\u001b[1;33m\u001b[0m\u001b[1;33m\u001b[0m\u001b[0m\n\u001b[0m\u001b[0;32m    515\u001b[0m \u001b[1;33m\u001b[0m\u001b[0m\n\u001b[0;32m    516\u001b[0m     \u001b[1;32mexcept\u001b[0m \u001b[0mException\u001b[0m \u001b[1;32mas\u001b[0m \u001b[0me\u001b[0m\u001b[1;33m:\u001b[0m\u001b[1;33m\u001b[0m\u001b[1;33m\u001b[0m\u001b[0m\n",
      "\u001b[1;32m~\\AppData\\Local\\Continuum\\anaconda3\\lib\\site-packages\\sklearn\\pipeline.py\u001b[0m in \u001b[0;36mfit\u001b[1;34m(self, X, y, **fit_params)\u001b[0m\n\u001b[0;32m    354\u001b[0m                                  self._log_message(len(self.steps) - 1)):\n\u001b[0;32m    355\u001b[0m             \u001b[1;32mif\u001b[0m \u001b[0mself\u001b[0m\u001b[1;33m.\u001b[0m\u001b[0m_final_estimator\u001b[0m \u001b[1;33m!=\u001b[0m \u001b[1;34m'passthrough'\u001b[0m\u001b[1;33m:\u001b[0m\u001b[1;33m\u001b[0m\u001b[1;33m\u001b[0m\u001b[0m\n\u001b[1;32m--> 356\u001b[1;33m                 \u001b[0mself\u001b[0m\u001b[1;33m.\u001b[0m\u001b[0m_final_estimator\u001b[0m\u001b[1;33m.\u001b[0m\u001b[0mfit\u001b[0m\u001b[1;33m(\u001b[0m\u001b[0mXt\u001b[0m\u001b[1;33m,\u001b[0m \u001b[0my\u001b[0m\u001b[1;33m,\u001b[0m \u001b[1;33m**\u001b[0m\u001b[0mfit_params\u001b[0m\u001b[1;33m)\u001b[0m\u001b[1;33m\u001b[0m\u001b[1;33m\u001b[0m\u001b[0m\n\u001b[0m\u001b[0;32m    357\u001b[0m         \u001b[1;32mreturn\u001b[0m \u001b[0mself\u001b[0m\u001b[1;33m\u001b[0m\u001b[1;33m\u001b[0m\u001b[0m\n\u001b[0;32m    358\u001b[0m \u001b[1;33m\u001b[0m\u001b[0m\n",
      "\u001b[1;32m~\\AppData\\Local\\Continuum\\anaconda3\\lib\\site-packages\\sklearn\\ensemble\\forest.py\u001b[0m in \u001b[0;36mfit\u001b[1;34m(self, X, y, sample_weight)\u001b[0m\n\u001b[0;32m    328\u001b[0m                     \u001b[0mt\u001b[0m\u001b[1;33m,\u001b[0m \u001b[0mself\u001b[0m\u001b[1;33m,\u001b[0m \u001b[0mX\u001b[0m\u001b[1;33m,\u001b[0m \u001b[0my\u001b[0m\u001b[1;33m,\u001b[0m \u001b[0msample_weight\u001b[0m\u001b[1;33m,\u001b[0m \u001b[0mi\u001b[0m\u001b[1;33m,\u001b[0m \u001b[0mlen\u001b[0m\u001b[1;33m(\u001b[0m\u001b[0mtrees\u001b[0m\u001b[1;33m)\u001b[0m\u001b[1;33m,\u001b[0m\u001b[1;33m\u001b[0m\u001b[1;33m\u001b[0m\u001b[0m\n\u001b[0;32m    329\u001b[0m                     verbose=self.verbose, class_weight=self.class_weight)\n\u001b[1;32m--> 330\u001b[1;33m                 for i, t in enumerate(trees))\n\u001b[0m\u001b[0;32m    331\u001b[0m \u001b[1;33m\u001b[0m\u001b[0m\n\u001b[0;32m    332\u001b[0m             \u001b[1;31m# Collect newly grown trees\u001b[0m\u001b[1;33m\u001b[0m\u001b[1;33m\u001b[0m\u001b[1;33m\u001b[0m\u001b[0m\n",
      "\u001b[1;32m~\\AppData\\Local\\Continuum\\anaconda3\\lib\\site-packages\\joblib\\parallel.py\u001b[0m in \u001b[0;36m__call__\u001b[1;34m(self, iterable)\u001b[0m\n\u001b[0;32m    922\u001b[0m                 \u001b[0mself\u001b[0m\u001b[1;33m.\u001b[0m\u001b[0m_iterating\u001b[0m \u001b[1;33m=\u001b[0m \u001b[0mself\u001b[0m\u001b[1;33m.\u001b[0m\u001b[0m_original_iterator\u001b[0m \u001b[1;32mis\u001b[0m \u001b[1;32mnot\u001b[0m \u001b[1;32mNone\u001b[0m\u001b[1;33m\u001b[0m\u001b[1;33m\u001b[0m\u001b[0m\n\u001b[0;32m    923\u001b[0m \u001b[1;33m\u001b[0m\u001b[0m\n\u001b[1;32m--> 924\u001b[1;33m             \u001b[1;32mwhile\u001b[0m \u001b[0mself\u001b[0m\u001b[1;33m.\u001b[0m\u001b[0mdispatch_one_batch\u001b[0m\u001b[1;33m(\u001b[0m\u001b[0miterator\u001b[0m\u001b[1;33m)\u001b[0m\u001b[1;33m:\u001b[0m\u001b[1;33m\u001b[0m\u001b[1;33m\u001b[0m\u001b[0m\n\u001b[0m\u001b[0;32m    925\u001b[0m                 \u001b[1;32mpass\u001b[0m\u001b[1;33m\u001b[0m\u001b[1;33m\u001b[0m\u001b[0m\n\u001b[0;32m    926\u001b[0m \u001b[1;33m\u001b[0m\u001b[0m\n",
      "\u001b[1;32m~\\AppData\\Local\\Continuum\\anaconda3\\lib\\site-packages\\joblib\\parallel.py\u001b[0m in \u001b[0;36mdispatch_one_batch\u001b[1;34m(self, iterator)\u001b[0m\n\u001b[0;32m    757\u001b[0m                 \u001b[1;32mreturn\u001b[0m \u001b[1;32mFalse\u001b[0m\u001b[1;33m\u001b[0m\u001b[1;33m\u001b[0m\u001b[0m\n\u001b[0;32m    758\u001b[0m             \u001b[1;32melse\u001b[0m\u001b[1;33m:\u001b[0m\u001b[1;33m\u001b[0m\u001b[1;33m\u001b[0m\u001b[0m\n\u001b[1;32m--> 759\u001b[1;33m                 \u001b[0mself\u001b[0m\u001b[1;33m.\u001b[0m\u001b[0m_dispatch\u001b[0m\u001b[1;33m(\u001b[0m\u001b[0mtasks\u001b[0m\u001b[1;33m)\u001b[0m\u001b[1;33m\u001b[0m\u001b[1;33m\u001b[0m\u001b[0m\n\u001b[0m\u001b[0;32m    760\u001b[0m                 \u001b[1;32mreturn\u001b[0m \u001b[1;32mTrue\u001b[0m\u001b[1;33m\u001b[0m\u001b[1;33m\u001b[0m\u001b[0m\n\u001b[0;32m    761\u001b[0m \u001b[1;33m\u001b[0m\u001b[0m\n",
      "\u001b[1;32m~\\AppData\\Local\\Continuum\\anaconda3\\lib\\site-packages\\joblib\\parallel.py\u001b[0m in \u001b[0;36m_dispatch\u001b[1;34m(self, batch)\u001b[0m\n\u001b[0;32m    714\u001b[0m         \u001b[1;32mwith\u001b[0m \u001b[0mself\u001b[0m\u001b[1;33m.\u001b[0m\u001b[0m_lock\u001b[0m\u001b[1;33m:\u001b[0m\u001b[1;33m\u001b[0m\u001b[1;33m\u001b[0m\u001b[0m\n\u001b[0;32m    715\u001b[0m             \u001b[0mjob_idx\u001b[0m \u001b[1;33m=\u001b[0m \u001b[0mlen\u001b[0m\u001b[1;33m(\u001b[0m\u001b[0mself\u001b[0m\u001b[1;33m.\u001b[0m\u001b[0m_jobs\u001b[0m\u001b[1;33m)\u001b[0m\u001b[1;33m\u001b[0m\u001b[1;33m\u001b[0m\u001b[0m\n\u001b[1;32m--> 716\u001b[1;33m             \u001b[0mjob\u001b[0m \u001b[1;33m=\u001b[0m \u001b[0mself\u001b[0m\u001b[1;33m.\u001b[0m\u001b[0m_backend\u001b[0m\u001b[1;33m.\u001b[0m\u001b[0mapply_async\u001b[0m\u001b[1;33m(\u001b[0m\u001b[0mbatch\u001b[0m\u001b[1;33m,\u001b[0m \u001b[0mcallback\u001b[0m\u001b[1;33m=\u001b[0m\u001b[0mcb\u001b[0m\u001b[1;33m)\u001b[0m\u001b[1;33m\u001b[0m\u001b[1;33m\u001b[0m\u001b[0m\n\u001b[0m\u001b[0;32m    717\u001b[0m             \u001b[1;31m# A job can complete so quickly than its callback is\u001b[0m\u001b[1;33m\u001b[0m\u001b[1;33m\u001b[0m\u001b[1;33m\u001b[0m\u001b[0m\n\u001b[0;32m    718\u001b[0m             \u001b[1;31m# called before we get here, causing self._jobs to\u001b[0m\u001b[1;33m\u001b[0m\u001b[1;33m\u001b[0m\u001b[1;33m\u001b[0m\u001b[0m\n",
      "\u001b[1;32m~\\AppData\\Local\\Continuum\\anaconda3\\lib\\site-packages\\joblib\\_parallel_backends.py\u001b[0m in \u001b[0;36mapply_async\u001b[1;34m(self, func, callback)\u001b[0m\n\u001b[0;32m    180\u001b[0m     \u001b[1;32mdef\u001b[0m \u001b[0mapply_async\u001b[0m\u001b[1;33m(\u001b[0m\u001b[0mself\u001b[0m\u001b[1;33m,\u001b[0m \u001b[0mfunc\u001b[0m\u001b[1;33m,\u001b[0m \u001b[0mcallback\u001b[0m\u001b[1;33m=\u001b[0m\u001b[1;32mNone\u001b[0m\u001b[1;33m)\u001b[0m\u001b[1;33m:\u001b[0m\u001b[1;33m\u001b[0m\u001b[1;33m\u001b[0m\u001b[0m\n\u001b[0;32m    181\u001b[0m         \u001b[1;34m\"\"\"Schedule a func to be run\"\"\"\u001b[0m\u001b[1;33m\u001b[0m\u001b[1;33m\u001b[0m\u001b[0m\n\u001b[1;32m--> 182\u001b[1;33m         \u001b[0mresult\u001b[0m \u001b[1;33m=\u001b[0m \u001b[0mImmediateResult\u001b[0m\u001b[1;33m(\u001b[0m\u001b[0mfunc\u001b[0m\u001b[1;33m)\u001b[0m\u001b[1;33m\u001b[0m\u001b[1;33m\u001b[0m\u001b[0m\n\u001b[0m\u001b[0;32m    183\u001b[0m         \u001b[1;32mif\u001b[0m \u001b[0mcallback\u001b[0m\u001b[1;33m:\u001b[0m\u001b[1;33m\u001b[0m\u001b[1;33m\u001b[0m\u001b[0m\n\u001b[0;32m    184\u001b[0m             \u001b[0mcallback\u001b[0m\u001b[1;33m(\u001b[0m\u001b[0mresult\u001b[0m\u001b[1;33m)\u001b[0m\u001b[1;33m\u001b[0m\u001b[1;33m\u001b[0m\u001b[0m\n",
      "\u001b[1;32m~\\AppData\\Local\\Continuum\\anaconda3\\lib\\site-packages\\joblib\\_parallel_backends.py\u001b[0m in \u001b[0;36m__init__\u001b[1;34m(self, batch)\u001b[0m\n\u001b[0;32m    547\u001b[0m         \u001b[1;31m# Don't delay the application, to avoid keeping the input\u001b[0m\u001b[1;33m\u001b[0m\u001b[1;33m\u001b[0m\u001b[1;33m\u001b[0m\u001b[0m\n\u001b[0;32m    548\u001b[0m         \u001b[1;31m# arguments in memory\u001b[0m\u001b[1;33m\u001b[0m\u001b[1;33m\u001b[0m\u001b[1;33m\u001b[0m\u001b[0m\n\u001b[1;32m--> 549\u001b[1;33m         \u001b[0mself\u001b[0m\u001b[1;33m.\u001b[0m\u001b[0mresults\u001b[0m \u001b[1;33m=\u001b[0m \u001b[0mbatch\u001b[0m\u001b[1;33m(\u001b[0m\u001b[1;33m)\u001b[0m\u001b[1;33m\u001b[0m\u001b[1;33m\u001b[0m\u001b[0m\n\u001b[0m\u001b[0;32m    550\u001b[0m \u001b[1;33m\u001b[0m\u001b[0m\n\u001b[0;32m    551\u001b[0m     \u001b[1;32mdef\u001b[0m \u001b[0mget\u001b[0m\u001b[1;33m(\u001b[0m\u001b[0mself\u001b[0m\u001b[1;33m)\u001b[0m\u001b[1;33m:\u001b[0m\u001b[1;33m\u001b[0m\u001b[1;33m\u001b[0m\u001b[0m\n",
      "\u001b[1;32m~\\AppData\\Local\\Continuum\\anaconda3\\lib\\site-packages\\joblib\\parallel.py\u001b[0m in \u001b[0;36m__call__\u001b[1;34m(self)\u001b[0m\n\u001b[0;32m    223\u001b[0m         \u001b[1;32mwith\u001b[0m \u001b[0mparallel_backend\u001b[0m\u001b[1;33m(\u001b[0m\u001b[0mself\u001b[0m\u001b[1;33m.\u001b[0m\u001b[0m_backend\u001b[0m\u001b[1;33m,\u001b[0m \u001b[0mn_jobs\u001b[0m\u001b[1;33m=\u001b[0m\u001b[0mself\u001b[0m\u001b[1;33m.\u001b[0m\u001b[0m_n_jobs\u001b[0m\u001b[1;33m)\u001b[0m\u001b[1;33m:\u001b[0m\u001b[1;33m\u001b[0m\u001b[1;33m\u001b[0m\u001b[0m\n\u001b[0;32m    224\u001b[0m             return [func(*args, **kwargs)\n\u001b[1;32m--> 225\u001b[1;33m                     for func, args, kwargs in self.items]\n\u001b[0m\u001b[0;32m    226\u001b[0m \u001b[1;33m\u001b[0m\u001b[0m\n\u001b[0;32m    227\u001b[0m     \u001b[1;32mdef\u001b[0m \u001b[0m__len__\u001b[0m\u001b[1;33m(\u001b[0m\u001b[0mself\u001b[0m\u001b[1;33m)\u001b[0m\u001b[1;33m:\u001b[0m\u001b[1;33m\u001b[0m\u001b[1;33m\u001b[0m\u001b[0m\n",
      "\u001b[1;32m~\\AppData\\Local\\Continuum\\anaconda3\\lib\\site-packages\\joblib\\parallel.py\u001b[0m in \u001b[0;36m<listcomp>\u001b[1;34m(.0)\u001b[0m\n\u001b[0;32m    223\u001b[0m         \u001b[1;32mwith\u001b[0m \u001b[0mparallel_backend\u001b[0m\u001b[1;33m(\u001b[0m\u001b[0mself\u001b[0m\u001b[1;33m.\u001b[0m\u001b[0m_backend\u001b[0m\u001b[1;33m,\u001b[0m \u001b[0mn_jobs\u001b[0m\u001b[1;33m=\u001b[0m\u001b[0mself\u001b[0m\u001b[1;33m.\u001b[0m\u001b[0m_n_jobs\u001b[0m\u001b[1;33m)\u001b[0m\u001b[1;33m:\u001b[0m\u001b[1;33m\u001b[0m\u001b[1;33m\u001b[0m\u001b[0m\n\u001b[0;32m    224\u001b[0m             return [func(*args, **kwargs)\n\u001b[1;32m--> 225\u001b[1;33m                     for func, args, kwargs in self.items]\n\u001b[0m\u001b[0;32m    226\u001b[0m \u001b[1;33m\u001b[0m\u001b[0m\n\u001b[0;32m    227\u001b[0m     \u001b[1;32mdef\u001b[0m \u001b[0m__len__\u001b[0m\u001b[1;33m(\u001b[0m\u001b[0mself\u001b[0m\u001b[1;33m)\u001b[0m\u001b[1;33m:\u001b[0m\u001b[1;33m\u001b[0m\u001b[1;33m\u001b[0m\u001b[0m\n",
      "\u001b[1;32m~\\AppData\\Local\\Continuum\\anaconda3\\lib\\site-packages\\sklearn\\ensemble\\forest.py\u001b[0m in \u001b[0;36m_parallel_build_trees\u001b[1;34m(tree, forest, X, y, sample_weight, tree_idx, n_trees, verbose, class_weight)\u001b[0m\n\u001b[0;32m    116\u001b[0m             \u001b[0mcurr_sample_weight\u001b[0m \u001b[1;33m*=\u001b[0m \u001b[0mcompute_sample_weight\u001b[0m\u001b[1;33m(\u001b[0m\u001b[1;34m'balanced'\u001b[0m\u001b[1;33m,\u001b[0m \u001b[0my\u001b[0m\u001b[1;33m,\u001b[0m \u001b[0mindices\u001b[0m\u001b[1;33m)\u001b[0m\u001b[1;33m\u001b[0m\u001b[1;33m\u001b[0m\u001b[0m\n\u001b[0;32m    117\u001b[0m \u001b[1;33m\u001b[0m\u001b[0m\n\u001b[1;32m--> 118\u001b[1;33m         \u001b[0mtree\u001b[0m\u001b[1;33m.\u001b[0m\u001b[0mfit\u001b[0m\u001b[1;33m(\u001b[0m\u001b[0mX\u001b[0m\u001b[1;33m,\u001b[0m \u001b[0my\u001b[0m\u001b[1;33m,\u001b[0m \u001b[0msample_weight\u001b[0m\u001b[1;33m=\u001b[0m\u001b[0mcurr_sample_weight\u001b[0m\u001b[1;33m,\u001b[0m \u001b[0mcheck_input\u001b[0m\u001b[1;33m=\u001b[0m\u001b[1;32mFalse\u001b[0m\u001b[1;33m)\u001b[0m\u001b[1;33m\u001b[0m\u001b[1;33m\u001b[0m\u001b[0m\n\u001b[0m\u001b[0;32m    119\u001b[0m     \u001b[1;32melse\u001b[0m\u001b[1;33m:\u001b[0m\u001b[1;33m\u001b[0m\u001b[1;33m\u001b[0m\u001b[0m\n\u001b[0;32m    120\u001b[0m         \u001b[0mtree\u001b[0m\u001b[1;33m.\u001b[0m\u001b[0mfit\u001b[0m\u001b[1;33m(\u001b[0m\u001b[0mX\u001b[0m\u001b[1;33m,\u001b[0m \u001b[0my\u001b[0m\u001b[1;33m,\u001b[0m \u001b[0msample_weight\u001b[0m\u001b[1;33m=\u001b[0m\u001b[0msample_weight\u001b[0m\u001b[1;33m,\u001b[0m \u001b[0mcheck_input\u001b[0m\u001b[1;33m=\u001b[0m\u001b[1;32mFalse\u001b[0m\u001b[1;33m)\u001b[0m\u001b[1;33m\u001b[0m\u001b[1;33m\u001b[0m\u001b[0m\n",
      "\u001b[1;32m~\\AppData\\Local\\Continuum\\anaconda3\\lib\\site-packages\\sklearn\\tree\\tree.py\u001b[0m in \u001b[0;36mfit\u001b[1;34m(self, X, y, sample_weight, check_input, X_idx_sorted)\u001b[0m\n\u001b[0;32m    814\u001b[0m             \u001b[0msample_weight\u001b[0m\u001b[1;33m=\u001b[0m\u001b[0msample_weight\u001b[0m\u001b[1;33m,\u001b[0m\u001b[1;33m\u001b[0m\u001b[1;33m\u001b[0m\u001b[0m\n\u001b[0;32m    815\u001b[0m             \u001b[0mcheck_input\u001b[0m\u001b[1;33m=\u001b[0m\u001b[0mcheck_input\u001b[0m\u001b[1;33m,\u001b[0m\u001b[1;33m\u001b[0m\u001b[1;33m\u001b[0m\u001b[0m\n\u001b[1;32m--> 816\u001b[1;33m             X_idx_sorted=X_idx_sorted)\n\u001b[0m\u001b[0;32m    817\u001b[0m         \u001b[1;32mreturn\u001b[0m \u001b[0mself\u001b[0m\u001b[1;33m\u001b[0m\u001b[1;33m\u001b[0m\u001b[0m\n\u001b[0;32m    818\u001b[0m \u001b[1;33m\u001b[0m\u001b[0m\n",
      "\u001b[1;32m~\\AppData\\Local\\Continuum\\anaconda3\\lib\\site-packages\\sklearn\\tree\\tree.py\u001b[0m in \u001b[0;36mfit\u001b[1;34m(self, X, y, sample_weight, check_input, X_idx_sorted)\u001b[0m\n\u001b[0;32m    378\u001b[0m                                            min_impurity_split)\n\u001b[0;32m    379\u001b[0m \u001b[1;33m\u001b[0m\u001b[0m\n\u001b[1;32m--> 380\u001b[1;33m         \u001b[0mbuilder\u001b[0m\u001b[1;33m.\u001b[0m\u001b[0mbuild\u001b[0m\u001b[1;33m(\u001b[0m\u001b[0mself\u001b[0m\u001b[1;33m.\u001b[0m\u001b[0mtree_\u001b[0m\u001b[1;33m,\u001b[0m \u001b[0mX\u001b[0m\u001b[1;33m,\u001b[0m \u001b[0my\u001b[0m\u001b[1;33m,\u001b[0m \u001b[0msample_weight\u001b[0m\u001b[1;33m,\u001b[0m \u001b[0mX_idx_sorted\u001b[0m\u001b[1;33m)\u001b[0m\u001b[1;33m\u001b[0m\u001b[1;33m\u001b[0m\u001b[0m\n\u001b[0m\u001b[0;32m    381\u001b[0m \u001b[1;33m\u001b[0m\u001b[0m\n\u001b[0;32m    382\u001b[0m         \u001b[1;32mif\u001b[0m \u001b[0mself\u001b[0m\u001b[1;33m.\u001b[0m\u001b[0mn_outputs_\u001b[0m \u001b[1;33m==\u001b[0m \u001b[1;36m1\u001b[0m\u001b[1;33m:\u001b[0m\u001b[1;33m\u001b[0m\u001b[1;33m\u001b[0m\u001b[0m\n",
      "\u001b[1;31mKeyboardInterrupt\u001b[0m: "
     ]
    }
   ],
   "source": [
    "grid.fit(X_train1, y_train1)\n",
    "print(\"Elephant accuracy = %3.3f\" %(grid.score(X_test1,y_test1)))\n",
    "fpr, tpr, thresholds = metrics.roc_curve(y_test1, grid.predict(X_test1))\n",
    "print(\"Elephant AUC = %3.3f\" %(metrics.auc(fpr, tpr)))\n",
    "print(grid.best_params_)"
   ]
  },
  {
   "cell_type": "markdown",
   "metadata": {},
   "source": [
    "### RINGS"
   ]
  },
  {
   "cell_type": "markdown",
   "metadata": {},
   "source": [
    "##### Recursive Feature Elimination (RFE)"
   ]
  },
  {
   "cell_type": "code",
   "execution_count": null,
   "metadata": {},
   "outputs": [],
   "source": [
    "rfe = RFE(grid, 4)\n",
    "#start = time.process_time()\n",
    "RFE_X_Train = rfe.fit_transform(X_train2,y_train2)\n",
    "RFE_X_Test = rfe.transform(X_test2)\n",
    "\n",
    "rfe = rfe.fit(RFE_X_Train,y_train2)\n",
    "\n",
    "#print(time.process_time() - start)\n",
    "\n",
    "print(\"Overall Accuracy using RFE: \", rfe.score(RFE_X_Test,y_test2))"
   ]
  },
  {
   "cell_type": "code",
   "execution_count": null,
   "metadata": {},
   "outputs": [],
   "source": [
    "fpr, tpr, thresholds = metrics.roc_curve(y_test2, grid.predict(RFE_X_Test))\n",
    "print(\"Elephant AUC = %3.3f\" %(metrics.auc(fpr, tpr)))\n",
    "print(grid.best_params_)"
   ]
  },
  {
   "cell_type": "markdown",
   "metadata": {},
   "source": [
    "##### Normal"
   ]
  },
  {
   "cell_type": "code",
   "execution_count": null,
   "metadata": {},
   "outputs": [],
   "source": [
    "clf.fit(X_train2,y_train2)\n",
    "print(\"Ring accuracy = %3.3f\" %(grid.score(X_test2,y_test2)))\n",
    "fpr, tpr, thresholds = metrics.roc_curve(y_test2, grid.predict(X_test2))\n",
    "print(\"Ring AUC = %3.3f\" %(metrics.auc(fpr, tpr)))\n",
    "print(grid.best_params_)"
   ]
  },
  {
   "cell_type": "markdown",
   "metadata": {},
   "source": [
    "### YEAST 1"
   ]
  },
  {
   "cell_type": "markdown",
   "metadata": {},
   "source": [
    "##### Recursive Feature Elimination (RFE)"
   ]
  },
  {
   "cell_type": "code",
   "execution_count": null,
   "metadata": {},
   "outputs": [],
   "source": [
    "rfe = RFE(grid, 4)\n",
    "#start = time.process_time()\n",
    "RFE_X_Train = rfe.fit_transform(X_train3,y_train3)\n",
    "RFE_X_Test = rfe.transform(X_test3)\n",
    "\n",
    "rfe = rfe.fit(RFE_X_Train,y_train3)\n",
    "\n",
    "#print(time.process_time() - start)\n",
    "\n",
    "print(\"Overall Accuracy using RFE: \", rfe.score(RFE_X_Test,y_test3))"
   ]
  },
  {
   "cell_type": "code",
   "execution_count": null,
   "metadata": {},
   "outputs": [],
   "source": [
    "fpr, tpr, thresholds = metrics.roc_curve(y_test3, grid.predict(RFE_X_Test))\n",
    "print(\"Elephant AUC = %3.3f\" %(metrics.auc(fpr, tpr)))\n",
    "print(grid.best_params_)"
   ]
  },
  {
   "cell_type": "markdown",
   "metadata": {},
   "source": [
    "##### Normal"
   ]
  },
  {
   "cell_type": "code",
   "execution_count": null,
   "metadata": {},
   "outputs": [],
   "source": [
    "clf.fit(X_train3,y_train3)\n",
    "print(\"Yeast accuracy = %3.3f\" %(grid.score(X_test3,y_test3)))\n",
    "fpr, tpr, thresholds = metrics.roc_curve(y_test3, grid.predict(X_test3))\n",
    "print(\"Yeast AUC = %3.3f\" %(metrics.auc(fpr, tpr)))\n",
    "print(grid.best_params_)"
   ]
  },
  {
   "cell_type": "markdown",
   "metadata": {},
   "source": [
    "## XG Boost"
   ]
  },
  {
   "cell_type": "markdown",
   "metadata": {},
   "source": [
    "##### Grid Search "
   ]
  },
  {
   "cell_type": "code",
   "execution_count": 102,
   "metadata": {},
   "outputs": [],
   "source": [
    "steps = [('scaler', MinMaxScaler()), ('xgbc', XGBClassifier())]\n",
    "pipeline = Pipeline(steps)"
   ]
  },
  {
   "cell_type": "code",
   "execution_count": 104,
   "metadata": {},
   "outputs": [],
   "source": [
    "parameters = {'xgbc__n_estimators': range(60, 220, 40),\n",
    "'xgbc__max_depth':[3, 4, 5],\n",
    "}\n",
    "\n",
    "#'xgbc__gamma':[0.5, 1, 1.5, 2, 5],\n",
    "#'xgbc__learning_rate': [0.1, 0.01, 0.05]"
   ]
  },
  {
   "cell_type": "code",
   "execution_count": 105,
   "metadata": {},
   "outputs": [],
   "source": [
    "grid_xgbc = GridSearchCV(pipeline, param_grid=parameters, cv=5)"
   ]
  },
  {
   "cell_type": "markdown",
   "metadata": {},
   "source": [
    "### ELEPHANTS"
   ]
  },
  {
   "cell_type": "code",
   "execution_count": 106,
   "metadata": {},
   "outputs": [
    {
     "name": "stdout",
     "output_type": "stream",
     "text": [
      "Elephant accuracy XGBoost = 0.8208\n",
      "Elephant AUC XGBoost = 0.8233\n",
      "{'xgbc__max_depth': 4, 'xgbc__n_estimators': 180}\n"
     ]
    }
   ],
   "source": [
    "grid_xgbc.fit(X_train1, y_train1)\n",
    "print(\"Elephant accuracy XGBoost = %3.4f\" %(grid_xgbc.score(X_test1,y_test1)))\n",
    "fpr, tpr, thresholds = metrics.roc_curve(y_test1, grid_xgbc.predict(X_test1))\n",
    "print(\"Elephant AUC XGBoost = %3.4f\" %(metrics.auc(fpr, tpr)))\n",
    "print(grid_xgbc.best_params_)"
   ]
  },
  {
   "cell_type": "markdown",
   "metadata": {},
   "source": [
    "### RINGS"
   ]
  },
  {
   "cell_type": "code",
   "execution_count": 107,
   "metadata": {},
   "outputs": [
    {
     "name": "stdout",
     "output_type": "stream",
     "text": [
      "Ring accuracy XGBoost = 0.9635\n",
      "Ring AUC XGBoost = 0.9633\n",
      "{'xgbc__max_depth': 3, 'xgbc__n_estimators': 180}\n"
     ]
    }
   ],
   "source": [
    "grid_xgbc.fit(X_train2,y_train2)\n",
    "print(\"Ring accuracy XGBoost = %3.4f\" %(grid_xgbc.score(X_test2,y_test2)))\n",
    "fpr, tpr, thresholds = metrics.roc_curve(y_test2, grid_xgbc.predict(X_test2))\n",
    "print(\"Ring AUC XGBoost = %3.4f\" %(metrics.auc(fpr, tpr)))\n",
    "print(grid_xgbc.best_params_)"
   ]
  },
  {
   "cell_type": "markdown",
   "metadata": {},
   "source": [
    "### YEAST 1"
   ]
  },
  {
   "cell_type": "code",
   "execution_count": 108,
   "metadata": {},
   "outputs": [
    {
     "name": "stdout",
     "output_type": "stream",
     "text": [
      "Yeast accuracy XGBoost = 0.8110\n",
      "Yeast AUC XGBoost = 0.7248\n",
      "{'xgbc__max_depth': 3, 'xgbc__n_estimators': 60}\n"
     ]
    }
   ],
   "source": [
    "grid_xgbc.fit(X_train3,y_train3)\n",
    "print(\"Yeast accuracy XGBoost = %3.4f\" %(grid_xgbc.score(X_test3,y_test3)))\n",
    "fpr, tpr, thresholds = metrics.roc_curve(y_test3, grid_xgbc.predict(X_test3))\n",
    "print(\"Yeast AUC XGBoost = %3.4f\" %(metrics.auc(fpr, tpr)))\n",
    "print(grid_xgbc.best_params_)"
   ]
  },
  {
   "cell_type": "markdown",
   "metadata": {},
   "source": [
    "## Naive Bayes"
   ]
  },
  {
   "cell_type": "code",
   "execution_count": 98,
   "metadata": {
    "scrolled": true
   },
   "outputs": [
    {
     "name": "stdout",
     "output_type": "stream",
     "text": [
      "Elephant accuracy NB = 0.6953\n",
      "Elephant AUC NB = 0.7180\n"
     ]
    }
   ],
   "source": [
    "nbc = GaussianNB()\n",
    "nbc.fit(X_train1, y_train1)\n",
    "print(\"Elephant accuracy NB = %3.4f\" %(nbc.score(X_test1,y_test1)))\n",
    "fpr, tpr, thresholds = metrics.roc_curve(y_test1, nbc.predict(X_test1))\n",
    "print(\"Elephant AUC NB = %3.4f\" %(metrics.auc(fpr, tpr)))"
   ]
  },
  {
   "cell_type": "code",
   "execution_count": 99,
   "metadata": {},
   "outputs": [
    {
     "name": "stdout",
     "output_type": "stream",
     "text": [
      "Ring accuracy NB = 0.9811\n",
      "Ring AUC NB = 0.9811\n"
     ]
    }
   ],
   "source": [
    "nbc = GaussianNB()\n",
    "nbc.fit(X_train2, y_train2)\n",
    "print(\"Ring accuracy NB = %3.4f\" %(nbc.score(X_test2,y_test2)))\n",
    "fpr, tpr, thresholds = metrics.roc_curve(y_test2, nbc.predict(X_test2))\n",
    "print(\"Ring AUC NB = %3.4f\" %(metrics.auc(fpr, tpr)))"
   ]
  },
  {
   "cell_type": "code",
   "execution_count": 100,
   "metadata": {},
   "outputs": [
    {
     "name": "stdout",
     "output_type": "stream",
     "text": [
      "Ring accuracy NB = 0.3368\n",
      "Ring AUC NB = 0.5281\n"
     ]
    }
   ],
   "source": [
    "nbc = GaussianNB()\n",
    "nbc.fit(X_train3, y_train3)\n",
    "print(\"Ring accuracy NB = %3.4f\" %(nbc.score(X_test3,y_test3)))\n",
    "fpr, tpr, thresholds = metrics.roc_curve(y_test3, nbc.predict(X_test3))\n",
    "print(\"Ring AUC NB = %3.4f\" %(metrics.auc(fpr, tpr)))"
   ]
  },
  {
   "cell_type": "markdown",
   "metadata": {},
   "source": [
    "### Bagging"
   ]
  },
  {
   "cell_type": "code",
   "execution_count": 141,
   "metadata": {},
   "outputs": [],
   "source": [
    "clf1 = DecisionTreeClassifier(criterion='entropy', max_depth=1)\n",
    "clf2 = KNeighborsClassifier(n_neighbors=1)"
   ]
  },
  {
   "cell_type": "code",
   "execution_count": 142,
   "metadata": {},
   "outputs": [],
   "source": [
    "steps = [('scaler', StandardScaler()), ('bagging1', BaggingClassifier(base_estimator=clf1))]\n",
    "steps2 = [('scaler', StandardScaler()), ('bagging2', BaggingClassifier(base_estimator=clf2))]\n",
    "pipeline = Pipeline(steps)\n",
    "pipeline2 = Pipeline(steps2)"
   ]
  },
  {
   "cell_type": "code",
   "execution_count": 151,
   "metadata": {},
   "outputs": [],
   "source": [
    "parameters = {'bagging1__n_estimators': range(5, 50, 5)\n",
    "}\n",
    "\n",
    "parameters2 = {'bagging2__n_estimators': range(5, 50, 5)\n",
    "}"
   ]
  },
  {
   "cell_type": "code",
   "execution_count": 152,
   "metadata": {},
   "outputs": [],
   "source": [
    "Bagging1 = GridSearchCV(pipeline, param_grid=parameters, cv=5)\n",
    "Bagging2 = GridSearchCV(pipeline2, param_grid=parameters2, cv=5)"
   ]
  },
  {
   "cell_type": "code",
   "execution_count": 153,
   "metadata": {},
   "outputs": [
    {
     "name": "stdout",
     "output_type": "stream",
     "text": [
      "Elephant accuracy XGBoost = 0.6846\n",
      "Elephant AUC XGBoost = 0.6956\n",
      "{'bagging1__n_estimators': 15}\n",
      "Elephant accuracy XGBoost = 0.7348\n",
      "Elephant AUC XGBoost = 0.7309\n",
      "{'bagging2__n_estimators': 10}\n"
     ]
    }
   ],
   "source": [
    "Bagging1.fit(X_train1, y_train1)\n",
    "print(\"Elephant accuracy XGBoost = %3.4f\" %(Bagging1.score(X_test1,y_test1)))\n",
    "fpr, tpr, thresholds = metrics.roc_curve(y_test1, Bagging1.predict(X_test1))\n",
    "print(\"Elephant AUC XGBoost = %3.4f\" %(metrics.auc(fpr, tpr)))\n",
    "print(Bagging1.best_params_)\n",
    "\n",
    "Bagging2.fit(X_train1, y_train1)\n",
    "print(\"Elephant accuracy XGBoost = %3.4f\" %(Bagging2.score(X_test1,y_test1)))\n",
    "fpr, tpr, thresholds = metrics.roc_curve(y_test1, Bagging2.predict(X_test1))\n",
    "print(\"Elephant AUC XGBoost = %3.4f\" %(metrics.auc(fpr, tpr)))\n",
    "print(Bagging2.best_params_)"
   ]
  },
  {
   "cell_type": "code",
   "execution_count": 155,
   "metadata": {},
   "outputs": [
    {
     "name": "stdout",
     "output_type": "stream",
     "text": [
      "Ring accuracy Bagging = 0.7257\n",
      "Ring AUC Bagging = 0.7237\n",
      "{'bagging1__n_estimators': 5}\n",
      "Ring accuracy Bagging = 0.7561\n",
      "Ring AUC Bagging = 0.7538\n",
      "{'bagging2__n_estimators': 10}\n"
     ]
    }
   ],
   "source": [
    "Bagging1.fit(X_train2, y_train2)\n",
    "print(\"Ring accuracy Bagging = %3.4f\" %(Bagging1.score(X_test2,y_test2)))\n",
    "fpr, tpr, thresholds = metrics.roc_curve(y_test2, Bagging1.predict(X_test2))\n",
    "print(\"Ring AUC Bagging = %3.4f\" %(metrics.auc(fpr, tpr)))\n",
    "print(Bagging1.best_params_)\n",
    "\n",
    "Bagging2.fit(X_train2, y_train2)\n",
    "print(\"Ring accuracy Bagging = %3.4f\" %(Bagging2.score(X_test2,y_test2)))\n",
    "fpr, tpr, thresholds = metrics.roc_curve(y_test2, Bagging2.predict(X_test2))\n",
    "print(\"Ring AUC Bagging = %3.4f\" %(metrics.auc(fpr, tpr)))\n",
    "print(Bagging2.best_params_)"
   ]
  },
  {
   "cell_type": "code",
   "execution_count": 156,
   "metadata": {},
   "outputs": [
    {
     "name": "stdout",
     "output_type": "stream",
     "text": [
      "Ring accuracy Bagging = 0.7079\n",
      "Ring AUC Bagging = 0.5000\n",
      "{'bagging1__n_estimators': 10}\n",
      "Ring accuracy Bagging = 0.6770\n",
      "Ring AUC Bagging = 0.5853\n",
      "{'bagging2__n_estimators': 5}\n"
     ]
    }
   ],
   "source": [
    "Bagging1.fit(X_train3, y_train3)\n",
    "print(\"Ring accuracy Bagging = %3.4f\" %(Bagging1.score(X_test3,y_test3)))\n",
    "fpr, tpr, thresholds = metrics.roc_curve(y_test3, Bagging1.predict(X_test3))\n",
    "print(\"Ring AUC Bagging = %3.4f\" %(metrics.auc(fpr, tpr)))\n",
    "print(Bagging1.best_params_)\n",
    "\n",
    "Bagging2.fit(X_train3, y_train3)\n",
    "print(\"Ring accuracy Bagging = %3.4f\" %(Bagging2.score(X_test3,y_test3)))\n",
    "fpr, tpr, thresholds = metrics.roc_curve(y_test3, Bagging2.predict(X_test3))\n",
    "print(\"Ring AUC Bagging = %3.4f\" %(metrics.auc(fpr, tpr)))\n",
    "print(Bagging2.best_params_)"
   ]
  }
 ],
 "metadata": {
  "kernelspec": {
   "display_name": "Python 3",
   "language": "python",
   "name": "python3"
  },
  "language_info": {
   "codemirror_mode": {
    "name": "ipython",
    "version": 3
   },
   "file_extension": ".py",
   "mimetype": "text/x-python",
   "name": "python",
   "nbconvert_exporter": "python",
   "pygments_lexer": "ipython3",
   "version": "3.7.3"
  }
 },
 "nbformat": 4,
 "nbformat_minor": 2
}
